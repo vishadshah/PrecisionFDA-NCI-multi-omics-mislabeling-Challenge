{
 "cells": [
  {
   "cell_type": "code",
   "execution_count": 1,
   "metadata": {},
   "outputs": [],
   "source": [
    "# import libraries\n",
    "import numpy as np  \n",
    "import pandas as pd\n",
    "import matplotlib.pyplot as plt"
   ]
  },
  {
   "cell_type": "code",
   "execution_count": 2,
   "metadata": {},
   "outputs": [
    {
     "name": "stdout",
     "output_type": "stream",
     "text": [
      "Success: Data loaded into dataframe.\n"
     ]
    }
   ],
   "source": [
    "#loading the label(target) in dataframe on which we will train the data\n",
    "#sum_tab_2.csv has target data for clinical, proteomics and rna\n",
    "#thus taking just proteomics right now for training on proteomics data\n",
    "try:\n",
    "  target = pd.read_csv('sum_tab_2.csv')\n",
    "  Y = target['RNAseq']\n",
    "  print('Success: Data loaded into dataframe.')\n",
    "except Exception as e:\n",
    "    print('Data load error: ',e)"
   ]
  },
  {
   "cell_type": "code",
   "execution_count": 3,
   "metadata": {},
   "outputs": [
    {
     "name": "stdout",
     "output_type": "stream",
     "text": [
      "Success: Data loaded into dataframe.\n"
     ]
    }
   ],
   "source": [
    "#loading the proteomics training data in dataframe on which we will train the data\n",
    "try:\n",
    "  data = pd.read_csv('train_rna.csv')\n",
    "  print('Success: Data loaded into dataframe.')\n",
    "except Exception as e:\n",
    "    print('Data load error: ',e)"
   ]
  },
  {
   "cell_type": "code",
   "execution_count": 4,
   "metadata": {},
   "outputs": [
    {
     "data": {
      "text/html": [
       "<div>\n",
       "<style scoped>\n",
       "    .dataframe tbody tr th:only-of-type {\n",
       "        vertical-align: middle;\n",
       "    }\n",
       "\n",
       "    .dataframe tbody tr th {\n",
       "        vertical-align: top;\n",
       "    }\n",
       "\n",
       "    .dataframe thead th {\n",
       "        text-align: right;\n",
       "    }\n",
       "</style>\n",
       "<table border=\"1\" class=\"dataframe\">\n",
       "  <thead>\n",
       "    <tr style=\"text-align: right;\">\n",
       "      <th></th>\n",
       "      <th>Training_1</th>\n",
       "      <th>Training_2</th>\n",
       "      <th>Training_3</th>\n",
       "      <th>Training_4</th>\n",
       "      <th>Training_5</th>\n",
       "      <th>Training_6</th>\n",
       "      <th>Training_7</th>\n",
       "      <th>Training_8</th>\n",
       "      <th>Training_9</th>\n",
       "      <th>Training_10</th>\n",
       "      <th>...</th>\n",
       "      <th>Training_71</th>\n",
       "      <th>Training_72</th>\n",
       "      <th>Training_73</th>\n",
       "      <th>Training_74</th>\n",
       "      <th>Training_75</th>\n",
       "      <th>Training_76</th>\n",
       "      <th>Training_77</th>\n",
       "      <th>Training_78</th>\n",
       "      <th>Training_79</th>\n",
       "      <th>Training_80</th>\n",
       "    </tr>\n",
       "  </thead>\n",
       "  <tbody>\n",
       "    <tr>\n",
       "      <th>0</th>\n",
       "      <td>0.810976</td>\n",
       "      <td>0.340575</td>\n",
       "      <td>1.612506</td>\n",
       "      <td>0.768138</td>\n",
       "      <td>1.036180</td>\n",
       "      <td>1.617613</td>\n",
       "      <td>1.292022</td>\n",
       "      <td>0.962942</td>\n",
       "      <td>0.994111</td>\n",
       "      <td>0.583729</td>\n",
       "      <td>...</td>\n",
       "      <td>0.314591</td>\n",
       "      <td>0.992070</td>\n",
       "      <td>1.195645</td>\n",
       "      <td>1.309731</td>\n",
       "      <td>1.406313</td>\n",
       "      <td>0.890083</td>\n",
       "      <td>0.284594</td>\n",
       "      <td>0.596400</td>\n",
       "      <td>0.842055</td>\n",
       "      <td>0.229899</td>\n",
       "    </tr>\n",
       "    <tr>\n",
       "      <th>1</th>\n",
       "      <td>0.294094</td>\n",
       "      <td>0.286721</td>\n",
       "      <td>0.347598</td>\n",
       "      <td>0.251778</td>\n",
       "      <td>0.295748</td>\n",
       "      <td>0.096420</td>\n",
       "      <td>0.854710</td>\n",
       "      <td>0.471148</td>\n",
       "      <td>0.409193</td>\n",
       "      <td>0.289036</td>\n",
       "      <td>...</td>\n",
       "      <td>NaN</td>\n",
       "      <td>0.310806</td>\n",
       "      <td>0.459331</td>\n",
       "      <td>0.488802</td>\n",
       "      <td>0.226951</td>\n",
       "      <td>0.398371</td>\n",
       "      <td>0.197815</td>\n",
       "      <td>0.627765</td>\n",
       "      <td>NaN</td>\n",
       "      <td>0.137405</td>\n",
       "    </tr>\n",
       "    <tr>\n",
       "      <th>2</th>\n",
       "      <td>2.898144</td>\n",
       "      <td>2.223730</td>\n",
       "      <td>2.206560</td>\n",
       "      <td>2.996356</td>\n",
       "      <td>3.540528</td>\n",
       "      <td>2.064141</td>\n",
       "      <td>0.164002</td>\n",
       "      <td>0.214592</td>\n",
       "      <td>3.628532</td>\n",
       "      <td>1.617814</td>\n",
       "      <td>...</td>\n",
       "      <td>2.934092</td>\n",
       "      <td>0.100898</td>\n",
       "      <td>0.185712</td>\n",
       "      <td>3.088135</td>\n",
       "      <td>1.836085</td>\n",
       "      <td>2.975115</td>\n",
       "      <td>2.608306</td>\n",
       "      <td>2.868174</td>\n",
       "      <td>3.069301</td>\n",
       "      <td>2.983353</td>\n",
       "    </tr>\n",
       "    <tr>\n",
       "      <th>3</th>\n",
       "      <td>6.548415</td>\n",
       "      <td>7.355751</td>\n",
       "      <td>7.045954</td>\n",
       "      <td>6.451277</td>\n",
       "      <td>4.952865</td>\n",
       "      <td>8.016981</td>\n",
       "      <td>6.701985</td>\n",
       "      <td>7.123389</td>\n",
       "      <td>7.692460</td>\n",
       "      <td>6.112131</td>\n",
       "      <td>...</td>\n",
       "      <td>6.086940</td>\n",
       "      <td>5.381927</td>\n",
       "      <td>6.400106</td>\n",
       "      <td>7.347566</td>\n",
       "      <td>6.855824</td>\n",
       "      <td>6.130486</td>\n",
       "      <td>6.995109</td>\n",
       "      <td>7.509622</td>\n",
       "      <td>5.912048</td>\n",
       "      <td>6.749030</td>\n",
       "    </tr>\n",
       "    <tr>\n",
       "      <th>4</th>\n",
       "      <td>1.004192</td>\n",
       "      <td>0.967359</td>\n",
       "      <td>2.028455</td>\n",
       "      <td>1.142773</td>\n",
       "      <td>1.817558</td>\n",
       "      <td>2.282282</td>\n",
       "      <td>1.195557</td>\n",
       "      <td>1.399497</td>\n",
       "      <td>1.743556</td>\n",
       "      <td>0.487632</td>\n",
       "      <td>...</td>\n",
       "      <td>0.979831</td>\n",
       "      <td>0.853886</td>\n",
       "      <td>1.277587</td>\n",
       "      <td>1.713091</td>\n",
       "      <td>1.198867</td>\n",
       "      <td>0.892595</td>\n",
       "      <td>1.254911</td>\n",
       "      <td>0.878990</td>\n",
       "      <td>0.539391</td>\n",
       "      <td>1.789076</td>\n",
       "    </tr>\n",
       "  </tbody>\n",
       "</table>\n",
       "<p>5 rows × 80 columns</p>\n",
       "</div>"
      ],
      "text/plain": [
       "   Training_1  Training_2  Training_3  Training_4  Training_5  Training_6  \\\n",
       "0    0.810976    0.340575    1.612506    0.768138    1.036180    1.617613   \n",
       "1    0.294094    0.286721    0.347598    0.251778    0.295748    0.096420   \n",
       "2    2.898144    2.223730    2.206560    2.996356    3.540528    2.064141   \n",
       "3    6.548415    7.355751    7.045954    6.451277    4.952865    8.016981   \n",
       "4    1.004192    0.967359    2.028455    1.142773    1.817558    2.282282   \n",
       "\n",
       "   Training_7  Training_8  Training_9  Training_10     ...       Training_71  \\\n",
       "0    1.292022    0.962942    0.994111     0.583729     ...          0.314591   \n",
       "1    0.854710    0.471148    0.409193     0.289036     ...               NaN   \n",
       "2    0.164002    0.214592    3.628532     1.617814     ...          2.934092   \n",
       "3    6.701985    7.123389    7.692460     6.112131     ...          6.086940   \n",
       "4    1.195557    1.399497    1.743556     0.487632     ...          0.979831   \n",
       "\n",
       "   Training_72  Training_73  Training_74  Training_75  Training_76  \\\n",
       "0     0.992070     1.195645     1.309731     1.406313     0.890083   \n",
       "1     0.310806     0.459331     0.488802     0.226951     0.398371   \n",
       "2     0.100898     0.185712     3.088135     1.836085     2.975115   \n",
       "3     5.381927     6.400106     7.347566     6.855824     6.130486   \n",
       "4     0.853886     1.277587     1.713091     1.198867     0.892595   \n",
       "\n",
       "   Training_77  Training_78  Training_79  Training_80  \n",
       "0     0.284594     0.596400     0.842055     0.229899  \n",
       "1     0.197815     0.627765          NaN     0.137405  \n",
       "2     2.608306     2.868174     3.069301     2.983353  \n",
       "3     6.995109     7.509622     5.912048     6.749030  \n",
       "4     1.254911     0.878990     0.539391     1.789076  \n",
       "\n",
       "[5 rows x 80 columns]"
      ]
     },
     "execution_count": 4,
     "metadata": {},
     "output_type": "execute_result"
    }
   ],
   "source": [
    "#to check the training data\n",
    "data.head()"
   ]
  },
  {
   "cell_type": "code",
   "execution_count": 5,
   "metadata": {},
   "outputs": [],
   "source": [
    "#for transposing as the target has 80 outputs and the data given above has 80 columns and 4118 rows\n",
    "data = data.T"
   ]
  },
  {
   "cell_type": "code",
   "execution_count": 6,
   "metadata": {},
   "outputs": [
    {
     "data": {
      "text/html": [
       "<div>\n",
       "<style scoped>\n",
       "    .dataframe tbody tr th:only-of-type {\n",
       "        vertical-align: middle;\n",
       "    }\n",
       "\n",
       "    .dataframe tbody tr th {\n",
       "        vertical-align: top;\n",
       "    }\n",
       "\n",
       "    .dataframe thead th {\n",
       "        text-align: right;\n",
       "    }\n",
       "</style>\n",
       "<table border=\"1\" class=\"dataframe\">\n",
       "  <thead>\n",
       "    <tr style=\"text-align: right;\">\n",
       "      <th></th>\n",
       "      <th>0</th>\n",
       "      <th>1</th>\n",
       "      <th>2</th>\n",
       "      <th>3</th>\n",
       "      <th>4</th>\n",
       "      <th>5</th>\n",
       "      <th>6</th>\n",
       "      <th>7</th>\n",
       "      <th>8</th>\n",
       "      <th>9</th>\n",
       "      <th>...</th>\n",
       "      <th>17437</th>\n",
       "      <th>17438</th>\n",
       "      <th>17439</th>\n",
       "      <th>17440</th>\n",
       "      <th>17441</th>\n",
       "      <th>17442</th>\n",
       "      <th>17443</th>\n",
       "      <th>17444</th>\n",
       "      <th>17445</th>\n",
       "      <th>17446</th>\n",
       "    </tr>\n",
       "  </thead>\n",
       "  <tbody>\n",
       "    <tr>\n",
       "      <th>Training_1</th>\n",
       "      <td>0.810976</td>\n",
       "      <td>0.294094</td>\n",
       "      <td>2.898144</td>\n",
       "      <td>6.548415</td>\n",
       "      <td>1.004192</td>\n",
       "      <td>2.519397</td>\n",
       "      <td>5.749835</td>\n",
       "      <td>5.043260</td>\n",
       "      <td>0.297011</td>\n",
       "      <td>4.504254</td>\n",
       "      <td>...</td>\n",
       "      <td>4.237545</td>\n",
       "      <td>5.958848</td>\n",
       "      <td>1.074603</td>\n",
       "      <td>2.055115</td>\n",
       "      <td>3.860331</td>\n",
       "      <td>0.135844</td>\n",
       "      <td>2.781508</td>\n",
       "      <td>5.737653</td>\n",
       "      <td>2.856527</td>\n",
       "      <td>4.245627</td>\n",
       "    </tr>\n",
       "    <tr>\n",
       "      <th>Training_2</th>\n",
       "      <td>0.340575</td>\n",
       "      <td>0.286721</td>\n",
       "      <td>2.223730</td>\n",
       "      <td>7.355751</td>\n",
       "      <td>0.967359</td>\n",
       "      <td>2.042327</td>\n",
       "      <td>5.949647</td>\n",
       "      <td>5.540432</td>\n",
       "      <td>0.633366</td>\n",
       "      <td>3.143702</td>\n",
       "      <td>...</td>\n",
       "      <td>4.289768</td>\n",
       "      <td>6.301068</td>\n",
       "      <td>2.412114</td>\n",
       "      <td>3.305907</td>\n",
       "      <td>4.495388</td>\n",
       "      <td>NaN</td>\n",
       "      <td>2.898238</td>\n",
       "      <td>7.049020</td>\n",
       "      <td>4.122308</td>\n",
       "      <td>4.214849</td>\n",
       "    </tr>\n",
       "    <tr>\n",
       "      <th>Training_3</th>\n",
       "      <td>1.612506</td>\n",
       "      <td>0.347598</td>\n",
       "      <td>2.206560</td>\n",
       "      <td>7.045954</td>\n",
       "      <td>2.028455</td>\n",
       "      <td>2.829612</td>\n",
       "      <td>5.230059</td>\n",
       "      <td>4.257250</td>\n",
       "      <td>0.614350</td>\n",
       "      <td>3.063500</td>\n",
       "      <td>...</td>\n",
       "      <td>4.185377</td>\n",
       "      <td>5.563719</td>\n",
       "      <td>1.745223</td>\n",
       "      <td>2.838329</td>\n",
       "      <td>3.439241</td>\n",
       "      <td>0.288019</td>\n",
       "      <td>3.023023</td>\n",
       "      <td>7.007265</td>\n",
       "      <td>3.687514</td>\n",
       "      <td>3.706342</td>\n",
       "    </tr>\n",
       "    <tr>\n",
       "      <th>Training_4</th>\n",
       "      <td>0.768138</td>\n",
       "      <td>0.251778</td>\n",
       "      <td>2.996356</td>\n",
       "      <td>6.451277</td>\n",
       "      <td>1.142773</td>\n",
       "      <td>1.849382</td>\n",
       "      <td>5.526629</td>\n",
       "      <td>4.904821</td>\n",
       "      <td>0.721755</td>\n",
       "      <td>3.025762</td>\n",
       "      <td>...</td>\n",
       "      <td>4.191994</td>\n",
       "      <td>5.437015</td>\n",
       "      <td>2.375791</td>\n",
       "      <td>3.497647</td>\n",
       "      <td>3.315035</td>\n",
       "      <td>NaN</td>\n",
       "      <td>3.268904</td>\n",
       "      <td>6.744028</td>\n",
       "      <td>1.268706</td>\n",
       "      <td>3.981653</td>\n",
       "    </tr>\n",
       "    <tr>\n",
       "      <th>Training_5</th>\n",
       "      <td>1.036180</td>\n",
       "      <td>0.295748</td>\n",
       "      <td>3.540528</td>\n",
       "      <td>4.952865</td>\n",
       "      <td>1.817558</td>\n",
       "      <td>2.204899</td>\n",
       "      <td>4.598606</td>\n",
       "      <td>4.638229</td>\n",
       "      <td>0.238909</td>\n",
       "      <td>3.138107</td>\n",
       "      <td>...</td>\n",
       "      <td>4.908566</td>\n",
       "      <td>6.540738</td>\n",
       "      <td>1.282399</td>\n",
       "      <td>1.788190</td>\n",
       "      <td>3.345020</td>\n",
       "      <td>0.055721</td>\n",
       "      <td>3.140529</td>\n",
       "      <td>5.209790</td>\n",
       "      <td>1.691342</td>\n",
       "      <td>4.903892</td>\n",
       "    </tr>\n",
       "  </tbody>\n",
       "</table>\n",
       "<p>5 rows × 17447 columns</p>\n",
       "</div>"
      ],
      "text/plain": [
       "               0         1         2         3         4         5      \\\n",
       "Training_1  0.810976  0.294094  2.898144  6.548415  1.004192  2.519397   \n",
       "Training_2  0.340575  0.286721  2.223730  7.355751  0.967359  2.042327   \n",
       "Training_3  1.612506  0.347598  2.206560  7.045954  2.028455  2.829612   \n",
       "Training_4  0.768138  0.251778  2.996356  6.451277  1.142773  1.849382   \n",
       "Training_5  1.036180  0.295748  3.540528  4.952865  1.817558  2.204899   \n",
       "\n",
       "               6         7         8         9        ...        17437  \\\n",
       "Training_1  5.749835  5.043260  0.297011  4.504254    ...     4.237545   \n",
       "Training_2  5.949647  5.540432  0.633366  3.143702    ...     4.289768   \n",
       "Training_3  5.230059  4.257250  0.614350  3.063500    ...     4.185377   \n",
       "Training_4  5.526629  4.904821  0.721755  3.025762    ...     4.191994   \n",
       "Training_5  4.598606  4.638229  0.238909  3.138107    ...     4.908566   \n",
       "\n",
       "               17438     17439     17440     17441     17442     17443  \\\n",
       "Training_1  5.958848  1.074603  2.055115  3.860331  0.135844  2.781508   \n",
       "Training_2  6.301068  2.412114  3.305907  4.495388       NaN  2.898238   \n",
       "Training_3  5.563719  1.745223  2.838329  3.439241  0.288019  3.023023   \n",
       "Training_4  5.437015  2.375791  3.497647  3.315035       NaN  3.268904   \n",
       "Training_5  6.540738  1.282399  1.788190  3.345020  0.055721  3.140529   \n",
       "\n",
       "               17444     17445     17446  \n",
       "Training_1  5.737653  2.856527  4.245627  \n",
       "Training_2  7.049020  4.122308  4.214849  \n",
       "Training_3  7.007265  3.687514  3.706342  \n",
       "Training_4  6.744028  1.268706  3.981653  \n",
       "Training_5  5.209790  1.691342  4.903892  \n",
       "\n",
       "[5 rows x 17447 columns]"
      ]
     },
     "execution_count": 6,
     "metadata": {},
     "output_type": "execute_result"
    }
   ],
   "source": [
    "#to check the transposed training data\n",
    "data.head()"
   ]
  },
  {
   "cell_type": "code",
   "execution_count": 7,
   "metadata": {},
   "outputs": [],
   "source": [
    "#to replace the NaN values by the mean of each row for every individual row\n",
    "X = data.apply(lambda x: x.fillna(x.mean()),axis=1)"
   ]
  },
  {
   "cell_type": "code",
   "execution_count": 8,
   "metadata": {},
   "outputs": [
    {
     "data": {
      "text/html": [
       "<div>\n",
       "<style scoped>\n",
       "    .dataframe tbody tr th:only-of-type {\n",
       "        vertical-align: middle;\n",
       "    }\n",
       "\n",
       "    .dataframe tbody tr th {\n",
       "        vertical-align: top;\n",
       "    }\n",
       "\n",
       "    .dataframe thead th {\n",
       "        text-align: right;\n",
       "    }\n",
       "</style>\n",
       "<table border=\"1\" class=\"dataframe\">\n",
       "  <thead>\n",
       "    <tr style=\"text-align: right;\">\n",
       "      <th></th>\n",
       "      <th>0</th>\n",
       "      <th>1</th>\n",
       "      <th>2</th>\n",
       "      <th>3</th>\n",
       "      <th>4</th>\n",
       "      <th>5</th>\n",
       "      <th>6</th>\n",
       "      <th>7</th>\n",
       "      <th>8</th>\n",
       "      <th>9</th>\n",
       "      <th>...</th>\n",
       "      <th>17437</th>\n",
       "      <th>17438</th>\n",
       "      <th>17439</th>\n",
       "      <th>17440</th>\n",
       "      <th>17441</th>\n",
       "      <th>17442</th>\n",
       "      <th>17443</th>\n",
       "      <th>17444</th>\n",
       "      <th>17445</th>\n",
       "      <th>17446</th>\n",
       "    </tr>\n",
       "  </thead>\n",
       "  <tbody>\n",
       "    <tr>\n",
       "      <th>Training_1</th>\n",
       "      <td>0.810976</td>\n",
       "      <td>0.294094</td>\n",
       "      <td>2.898144</td>\n",
       "      <td>6.548415</td>\n",
       "      <td>1.004192</td>\n",
       "      <td>2.519397</td>\n",
       "      <td>5.749835</td>\n",
       "      <td>5.043260</td>\n",
       "      <td>0.297011</td>\n",
       "      <td>4.504254</td>\n",
       "      <td>...</td>\n",
       "      <td>4.237545</td>\n",
       "      <td>5.958848</td>\n",
       "      <td>1.074603</td>\n",
       "      <td>2.055115</td>\n",
       "      <td>3.860331</td>\n",
       "      <td>0.135844</td>\n",
       "      <td>2.781508</td>\n",
       "      <td>5.737653</td>\n",
       "      <td>2.856527</td>\n",
       "      <td>4.245627</td>\n",
       "    </tr>\n",
       "    <tr>\n",
       "      <th>Training_2</th>\n",
       "      <td>0.340575</td>\n",
       "      <td>0.286721</td>\n",
       "      <td>2.223730</td>\n",
       "      <td>7.355751</td>\n",
       "      <td>0.967359</td>\n",
       "      <td>2.042327</td>\n",
       "      <td>5.949647</td>\n",
       "      <td>5.540432</td>\n",
       "      <td>0.633366</td>\n",
       "      <td>3.143702</td>\n",
       "      <td>...</td>\n",
       "      <td>4.289768</td>\n",
       "      <td>6.301068</td>\n",
       "      <td>2.412114</td>\n",
       "      <td>3.305907</td>\n",
       "      <td>4.495388</td>\n",
       "      <td>3.339761</td>\n",
       "      <td>2.898238</td>\n",
       "      <td>7.049020</td>\n",
       "      <td>4.122308</td>\n",
       "      <td>4.214849</td>\n",
       "    </tr>\n",
       "    <tr>\n",
       "      <th>Training_3</th>\n",
       "      <td>1.612506</td>\n",
       "      <td>0.347598</td>\n",
       "      <td>2.206560</td>\n",
       "      <td>7.045954</td>\n",
       "      <td>2.028455</td>\n",
       "      <td>2.829612</td>\n",
       "      <td>5.230059</td>\n",
       "      <td>4.257250</td>\n",
       "      <td>0.614350</td>\n",
       "      <td>3.063500</td>\n",
       "      <td>...</td>\n",
       "      <td>4.185377</td>\n",
       "      <td>5.563719</td>\n",
       "      <td>1.745223</td>\n",
       "      <td>2.838329</td>\n",
       "      <td>3.439241</td>\n",
       "      <td>0.288019</td>\n",
       "      <td>3.023023</td>\n",
       "      <td>7.007265</td>\n",
       "      <td>3.687514</td>\n",
       "      <td>3.706342</td>\n",
       "    </tr>\n",
       "    <tr>\n",
       "      <th>Training_4</th>\n",
       "      <td>0.768138</td>\n",
       "      <td>0.251778</td>\n",
       "      <td>2.996356</td>\n",
       "      <td>6.451277</td>\n",
       "      <td>1.142773</td>\n",
       "      <td>1.849382</td>\n",
       "      <td>5.526629</td>\n",
       "      <td>4.904821</td>\n",
       "      <td>0.721755</td>\n",
       "      <td>3.025762</td>\n",
       "      <td>...</td>\n",
       "      <td>4.191994</td>\n",
       "      <td>5.437015</td>\n",
       "      <td>2.375791</td>\n",
       "      <td>3.497647</td>\n",
       "      <td>3.315035</td>\n",
       "      <td>3.332892</td>\n",
       "      <td>3.268904</td>\n",
       "      <td>6.744028</td>\n",
       "      <td>1.268706</td>\n",
       "      <td>3.981653</td>\n",
       "    </tr>\n",
       "    <tr>\n",
       "      <th>Training_5</th>\n",
       "      <td>1.036180</td>\n",
       "      <td>0.295748</td>\n",
       "      <td>3.540528</td>\n",
       "      <td>4.952865</td>\n",
       "      <td>1.817558</td>\n",
       "      <td>2.204899</td>\n",
       "      <td>4.598606</td>\n",
       "      <td>4.638229</td>\n",
       "      <td>0.238909</td>\n",
       "      <td>3.138107</td>\n",
       "      <td>...</td>\n",
       "      <td>4.908566</td>\n",
       "      <td>6.540738</td>\n",
       "      <td>1.282399</td>\n",
       "      <td>1.788190</td>\n",
       "      <td>3.345020</td>\n",
       "      <td>0.055721</td>\n",
       "      <td>3.140529</td>\n",
       "      <td>5.209790</td>\n",
       "      <td>1.691342</td>\n",
       "      <td>4.903892</td>\n",
       "    </tr>\n",
       "  </tbody>\n",
       "</table>\n",
       "<p>5 rows × 17447 columns</p>\n",
       "</div>"
      ],
      "text/plain": [
       "               0         1         2         3         4         5      \\\n",
       "Training_1  0.810976  0.294094  2.898144  6.548415  1.004192  2.519397   \n",
       "Training_2  0.340575  0.286721  2.223730  7.355751  0.967359  2.042327   \n",
       "Training_3  1.612506  0.347598  2.206560  7.045954  2.028455  2.829612   \n",
       "Training_4  0.768138  0.251778  2.996356  6.451277  1.142773  1.849382   \n",
       "Training_5  1.036180  0.295748  3.540528  4.952865  1.817558  2.204899   \n",
       "\n",
       "               6         7         8         9        ...        17437  \\\n",
       "Training_1  5.749835  5.043260  0.297011  4.504254    ...     4.237545   \n",
       "Training_2  5.949647  5.540432  0.633366  3.143702    ...     4.289768   \n",
       "Training_3  5.230059  4.257250  0.614350  3.063500    ...     4.185377   \n",
       "Training_4  5.526629  4.904821  0.721755  3.025762    ...     4.191994   \n",
       "Training_5  4.598606  4.638229  0.238909  3.138107    ...     4.908566   \n",
       "\n",
       "               17438     17439     17440     17441     17442     17443  \\\n",
       "Training_1  5.958848  1.074603  2.055115  3.860331  0.135844  2.781508   \n",
       "Training_2  6.301068  2.412114  3.305907  4.495388  3.339761  2.898238   \n",
       "Training_3  5.563719  1.745223  2.838329  3.439241  0.288019  3.023023   \n",
       "Training_4  5.437015  2.375791  3.497647  3.315035  3.332892  3.268904   \n",
       "Training_5  6.540738  1.282399  1.788190  3.345020  0.055721  3.140529   \n",
       "\n",
       "               17444     17445     17446  \n",
       "Training_1  5.737653  2.856527  4.245627  \n",
       "Training_2  7.049020  4.122308  4.214849  \n",
       "Training_3  7.007265  3.687514  3.706342  \n",
       "Training_4  6.744028  1.268706  3.981653  \n",
       "Training_5  5.209790  1.691342  4.903892  \n",
       "\n",
       "[5 rows x 17447 columns]"
      ]
     },
     "execution_count": 8,
     "metadata": {},
     "output_type": "execute_result"
    }
   ],
   "source": [
    "#to check the transposed mean filled training data\n",
    "X.head()"
   ]
  },
  {
   "cell_type": "code",
   "execution_count": 9,
   "metadata": {},
   "outputs": [
    {
     "data": {
      "text/plain": [
       "0    1\n",
       "1    2\n",
       "2    3\n",
       "3    4\n",
       "4    5\n",
       "Name: RNAseq, dtype: int64"
      ]
     },
     "execution_count": 9,
     "metadata": {},
     "output_type": "execute_result"
    }
   ],
   "source": [
    "#to check the label(target) data of proteomics\n",
    "Y.head()"
   ]
  },
  {
   "cell_type": "code",
   "execution_count": 10,
   "metadata": {},
   "outputs": [],
   "source": [
    "#Using PCA to reduce the features\n",
    "from sklearn.decomposition import PCA\n",
    "pca = PCA(n_components=10)\n",
    "principalComponents = pca.fit_transform(X)\n",
    "X_ReducePCA = pd.DataFrame(data = principalComponents)"
   ]
  },
  {
   "cell_type": "code",
   "execution_count": 11,
   "metadata": {},
   "outputs": [
    {
     "data": {
      "text/html": [
       "<div>\n",
       "<style scoped>\n",
       "    .dataframe tbody tr th:only-of-type {\n",
       "        vertical-align: middle;\n",
       "    }\n",
       "\n",
       "    .dataframe tbody tr th {\n",
       "        vertical-align: top;\n",
       "    }\n",
       "\n",
       "    .dataframe thead th {\n",
       "        text-align: right;\n",
       "    }\n",
       "</style>\n",
       "<table border=\"1\" class=\"dataframe\">\n",
       "  <thead>\n",
       "    <tr style=\"text-align: right;\">\n",
       "      <th></th>\n",
       "      <th>0</th>\n",
       "      <th>1</th>\n",
       "      <th>2</th>\n",
       "      <th>3</th>\n",
       "      <th>4</th>\n",
       "      <th>5</th>\n",
       "      <th>6</th>\n",
       "      <th>7</th>\n",
       "      <th>8</th>\n",
       "      <th>9</th>\n",
       "    </tr>\n",
       "  </thead>\n",
       "  <tbody>\n",
       "    <tr>\n",
       "      <th>0</th>\n",
       "      <td>1.995782</td>\n",
       "      <td>27.524728</td>\n",
       "      <td>-13.020235</td>\n",
       "      <td>25.885306</td>\n",
       "      <td>-28.016851</td>\n",
       "      <td>-29.775442</td>\n",
       "      <td>54.433310</td>\n",
       "      <td>-16.012573</td>\n",
       "      <td>12.172500</td>\n",
       "      <td>-11.312295</td>\n",
       "    </tr>\n",
       "    <tr>\n",
       "      <th>1</th>\n",
       "      <td>-32.474345</td>\n",
       "      <td>-28.753878</td>\n",
       "      <td>-10.787747</td>\n",
       "      <td>26.165891</td>\n",
       "      <td>39.334191</td>\n",
       "      <td>6.596716</td>\n",
       "      <td>2.533423</td>\n",
       "      <td>1.621349</td>\n",
       "      <td>27.454463</td>\n",
       "      <td>35.792985</td>\n",
       "    </tr>\n",
       "    <tr>\n",
       "      <th>2</th>\n",
       "      <td>-10.866287</td>\n",
       "      <td>-2.968368</td>\n",
       "      <td>-15.751863</td>\n",
       "      <td>17.399683</td>\n",
       "      <td>-22.990622</td>\n",
       "      <td>-0.786930</td>\n",
       "      <td>-0.499504</td>\n",
       "      <td>-2.110159</td>\n",
       "      <td>-21.389410</td>\n",
       "      <td>12.083298</td>\n",
       "    </tr>\n",
       "    <tr>\n",
       "      <th>3</th>\n",
       "      <td>4.568325</td>\n",
       "      <td>23.079816</td>\n",
       "      <td>-3.605822</td>\n",
       "      <td>16.505979</td>\n",
       "      <td>-3.469342</td>\n",
       "      <td>-13.806279</td>\n",
       "      <td>-16.430133</td>\n",
       "      <td>-7.277773</td>\n",
       "      <td>-3.158167</td>\n",
       "      <td>11.958316</td>\n",
       "    </tr>\n",
       "    <tr>\n",
       "      <th>4</th>\n",
       "      <td>16.997784</td>\n",
       "      <td>51.969971</td>\n",
       "      <td>-15.739477</td>\n",
       "      <td>-23.799720</td>\n",
       "      <td>8.231163</td>\n",
       "      <td>14.647387</td>\n",
       "      <td>15.046901</td>\n",
       "      <td>3.173528</td>\n",
       "      <td>9.154368</td>\n",
       "      <td>3.644730</td>\n",
       "    </tr>\n",
       "  </tbody>\n",
       "</table>\n",
       "</div>"
      ],
      "text/plain": [
       "           0          1          2          3          4          5  \\\n",
       "0   1.995782  27.524728 -13.020235  25.885306 -28.016851 -29.775442   \n",
       "1 -32.474345 -28.753878 -10.787747  26.165891  39.334191   6.596716   \n",
       "2 -10.866287  -2.968368 -15.751863  17.399683 -22.990622  -0.786930   \n",
       "3   4.568325  23.079816  -3.605822  16.505979  -3.469342 -13.806279   \n",
       "4  16.997784  51.969971 -15.739477 -23.799720   8.231163  14.647387   \n",
       "\n",
       "           6          7          8          9  \n",
       "0  54.433310 -16.012573  12.172500 -11.312295  \n",
       "1   2.533423   1.621349  27.454463  35.792985  \n",
       "2  -0.499504  -2.110159 -21.389410  12.083298  \n",
       "3 -16.430133  -7.277773  -3.158167  11.958316  \n",
       "4  15.046901   3.173528   9.154368   3.644730  "
      ]
     },
     "execution_count": 11,
     "metadata": {},
     "output_type": "execute_result"
    }
   ],
   "source": [
    "#to check the dataframe with 10 features\n",
    "X_ReducePCA.head()"
   ]
  },
  {
   "cell_type": "code",
   "execution_count": 12,
   "metadata": {},
   "outputs": [],
   "source": [
    "#using kmeans clustering on the training proteomics data having reduced features\n",
    "#reduced features with 80 clusters as 79 are unique (0-79) (appear only once)\n",
    "from sklearn.cluster import KMeans\n",
    "kmeans = KMeans(n_clusters=4)\n",
    "kmeans.fit(X_ReducePCA)\n",
    "y_kmeansPCA = kmeans.predict(X_ReducePCA)"
   ]
  },
  {
   "cell_type": "code",
   "execution_count": 13,
   "metadata": {},
   "outputs": [
    {
     "data": {
      "text/plain": [
       "array([0, 1, 1, 0, 3, 1, 2, 2, 1, 1, 1, 3, 3, 0, 2, 1, 2, 1, 3, 2, 2, 0,\n",
       "       1, 0, 2, 1, 3, 2, 1, 1, 0, 1, 3, 1, 1, 0, 0, 2, 0, 0, 0, 1, 0, 0,\n",
       "       2, 2, 2, 0, 2, 2, 0, 1, 2, 1, 3, 1, 0, 1, 2, 1, 0, 1, 0, 2, 1, 2,\n",
       "       3, 0, 1, 3, 1, 1, 2, 3, 2, 0, 1, 1, 0, 0], dtype=int32)"
      ]
     },
     "execution_count": 13,
     "metadata": {},
     "output_type": "execute_result"
    }
   ],
   "source": [
    "#displaying the labels after clustering on reduced features\n",
    "y_kmeansPCA"
   ]
  },
  {
   "cell_type": "code",
   "execution_count": 14,
   "metadata": {},
   "outputs": [],
   "source": [
    "from sklearn.ensemble import RandomForestClassifier"
   ]
  },
  {
   "cell_type": "code",
   "execution_count": 15,
   "metadata": {},
   "outputs": [],
   "source": [
    "#to use RandomForest for feature importance thus reducing the features(4118 columns)\n",
    "model = RandomForestClassifier(random_state=1, max_depth=10)"
   ]
  },
  {
   "cell_type": "code",
   "execution_count": 16,
   "metadata": {},
   "outputs": [
    {
     "name": "stderr",
     "output_type": "stream",
     "text": [
      "/anaconda3/lib/python3.6/site-packages/sklearn/ensemble/forest.py:248: FutureWarning: The default value of n_estimators will change from 10 in version 0.20 to 100 in 0.22.\n",
      "  \"10 in version 0.20 to 100 in 0.22.\", FutureWarning)\n"
     ]
    },
    {
     "data": {
      "text/plain": [
       "RandomForestClassifier(bootstrap=True, class_weight=None, criterion='gini',\n",
       "            max_depth=10, max_features='auto', max_leaf_nodes=None,\n",
       "            min_impurity_decrease=0.0, min_impurity_split=None,\n",
       "            min_samples_leaf=1, min_samples_split=2,\n",
       "            min_weight_fraction_leaf=0.0, n_estimators=10, n_jobs=None,\n",
       "            oob_score=False, random_state=1, verbose=0, warm_start=False)"
      ]
     },
     "execution_count": 16,
     "metadata": {},
     "output_type": "execute_result"
    }
   ],
   "source": [
    "model.fit(X,Y)"
   ]
  },
  {
   "cell_type": "code",
   "execution_count": 17,
   "metadata": {},
   "outputs": [
    {
     "data": {
      "image/png": "[encoded data removed]",
      "text/plain": [
       "<Figure size 432x288 with 1 Axes>"
      ]
     },
     "metadata": {
      "needs_background": "light"
     },
     "output_type": "display_data"
    }
   ],
   "source": [
    "#to display which features(columns) are important on basis of training the data on the Y label (target)\n",
    "features = X.columns\n",
    "importances = model.feature_importances_\n",
    "indices = np.argsort(importances)[-10:]  # top 10 features\n",
    "plt.title('Feature Importances')\n",
    "plt.barh(range(len(indices)), importances[indices], color='b', align='center')\n",
    "plt.yticks(range(len(indices)), [features[i] for i in indices])\n",
    "plt.xlabel('Relative Importance')\n",
    "plt.show()"
   ]
  },
  {
   "cell_type": "code",
   "execution_count": 18,
   "metadata": {},
   "outputs": [
    {
     "data": {
      "text/plain": [
       "[12482, 2458, 11076, 1422, 10988, 11322, 2324, 6122, 10576, 14704]"
      ]
     },
     "execution_count": 18,
     "metadata": {},
     "output_type": "execute_result"
    }
   ],
   "source": [
    "#displaying which proteomics are top 10 based on importance\n",
    "Cols = [features[i] for i in indices]\n",
    "Cols"
   ]
  },
  {
   "cell_type": "code",
   "execution_count": 19,
   "metadata": {},
   "outputs": [],
   "source": [
    "#taking 9 features to get 90% accuracy\n",
    "cols = [10576, 14704]"
   ]
  },
  {
   "cell_type": "code",
   "execution_count": 20,
   "metadata": {},
   "outputs": [
    {
     "data": {
      "text/html": [
       "<div>\n",
       "<style scoped>\n",
       "    .dataframe tbody tr th:only-of-type {\n",
       "        vertical-align: middle;\n",
       "    }\n",
       "\n",
       "    .dataframe tbody tr th {\n",
       "        vertical-align: top;\n",
       "    }\n",
       "\n",
       "    .dataframe thead th {\n",
       "        text-align: right;\n",
       "    }\n",
       "</style>\n",
       "<table border=\"1\" class=\"dataframe\">\n",
       "  <thead>\n",
       "    <tr style=\"text-align: right;\">\n",
       "      <th></th>\n",
       "      <th>10576</th>\n",
       "      <th>14704</th>\n",
       "    </tr>\n",
       "  </thead>\n",
       "  <tbody>\n",
       "    <tr>\n",
       "      <th>Training_1</th>\n",
       "      <td>0.275279</td>\n",
       "      <td>2.977784</td>\n",
       "    </tr>\n",
       "    <tr>\n",
       "      <th>Training_2</th>\n",
       "      <td>1.420696</td>\n",
       "      <td>2.348782</td>\n",
       "    </tr>\n",
       "    <tr>\n",
       "      <th>Training_3</th>\n",
       "      <td>0.496684</td>\n",
       "      <td>2.703945</td>\n",
       "    </tr>\n",
       "    <tr>\n",
       "      <th>Training_4</th>\n",
       "      <td>0.363323</td>\n",
       "      <td>2.942326</td>\n",
       "    </tr>\n",
       "    <tr>\n",
       "      <th>Training_5</th>\n",
       "      <td>0.174972</td>\n",
       "      <td>2.590870</td>\n",
       "    </tr>\n",
       "  </tbody>\n",
       "</table>\n",
       "</div>"
      ],
      "text/plain": [
       "               10576     14704\n",
       "Training_1  0.275279  2.977784\n",
       "Training_2  1.420696  2.348782\n",
       "Training_3  0.496684  2.703945\n",
       "Training_4  0.363323  2.942326\n",
       "Training_5  0.174972  2.590870"
      ]
     },
     "execution_count": 20,
     "metadata": {},
     "output_type": "execute_result"
    }
   ],
   "source": [
    "#Using the reduced features\n",
    "X_reduced = X.iloc[:,cols]\n",
    "X_reduced.head()"
   ]
  },
  {
   "cell_type": "code",
   "execution_count": 21,
   "metadata": {},
   "outputs": [
    {
     "data": {
      "text/plain": [
       "79"
      ]
     },
     "execution_count": 21,
     "metadata": {},
     "output_type": "execute_result"
    }
   ],
   "source": [
    "#to display how many points in the label(target) are unique(occur only once)\n",
    "Y.nunique()"
   ]
  },
  {
   "cell_type": "code",
   "execution_count": 22,
   "metadata": {},
   "outputs": [],
   "source": [
    "RandomForestClassifier_model = RandomForestClassifier(random_state=1, max_depth=10)"
   ]
  },
  {
   "cell_type": "code",
   "execution_count": 23,
   "metadata": {},
   "outputs": [
    {
     "name": "stderr",
     "output_type": "stream",
     "text": [
      "/anaconda3/lib/python3.6/site-packages/sklearn/ensemble/forest.py:248: FutureWarning: The default value of n_estimators will change from 10 in version 0.20 to 100 in 0.22.\n",
      "  \"10 in version 0.20 to 100 in 0.22.\", FutureWarning)\n"
     ]
    },
    {
     "data": {
      "text/plain": [
       "RandomForestClassifier(bootstrap=True, class_weight=None, criterion='gini',\n",
       "            max_depth=10, max_features='auto', max_leaf_nodes=None,\n",
       "            min_impurity_decrease=0.0, min_impurity_split=None,\n",
       "            min_samples_leaf=1, min_samples_split=2,\n",
       "            min_weight_fraction_leaf=0.0, n_estimators=10, n_jobs=None,\n",
       "            oob_score=False, random_state=1, verbose=0, warm_start=False)"
      ]
     },
     "execution_count": 23,
     "metadata": {},
     "output_type": "execute_result"
    }
   ],
   "source": [
    "RandomForestClassifier_model.fit(X_reduced,Y)"
   ]
  },
  {
   "cell_type": "code",
   "execution_count": 24,
   "metadata": {},
   "outputs": [
    {
     "data": {
      "text/plain": [
       "array([ 1,  2,  3,  4,  5, 21,  7,  8,  9, 10, 11, 12, 13, 14, 15, 16, 17,\n",
       "       18, 12, 20,  6, 22, 23, 24, 25, 44, 27, 28, 29, 30, 31, 32, 33, 34,\n",
       "       35, 36, 37, 38, 39, 40, 41, 42, 43, 44, 45, 46, 47, 48, 12, 73, 51,\n",
       "       52, 49, 54, 55, 56,  1, 58, 57, 59, 49, 62, 63, 64, 65, 66, 67, 68,\n",
       "       69, 70, 71, 72, 73, 74, 75, 76, 77, 78, 79, 80])"
      ]
     },
     "execution_count": 24,
     "metadata": {},
     "output_type": "execute_result"
    }
   ],
   "source": [
    "Y_predicted_train = RandomForestClassifier_model.predict(X_reduced)\n",
    "Y_predicted_train"
   ]
  },
  {
   "cell_type": "code",
   "execution_count": 25,
   "metadata": {},
   "outputs": [],
   "source": [
    "import sklearn\n",
    "rna_accuracy = sklearn.metrics.accuracy_score(Y_predicted_train, Y)"
   ]
  },
  {
   "cell_type": "code",
   "execution_count": 26,
   "metadata": {},
   "outputs": [
    {
     "data": {
      "text/plain": [
       "0.9375"
      ]
     },
     "execution_count": 26,
     "metadata": {},
     "output_type": "execute_result"
    }
   ],
   "source": [
    "rna_accuracy"
   ]
  },
  {
   "cell_type": "code",
   "execution_count": 27,
   "metadata": {},
   "outputs": [],
   "source": [
    "#using kmeans clustering on the training proteomics data having reduced features\n",
    "#reduced features with 80 clusters as 79 are unique (0-79) (appear only once)\n",
    "from sklearn.cluster import KMeans\n",
    "kmeans = KMeans(n_clusters=4)\n",
    "kmeans.fit(X_reduced)\n",
    "y_kmeans = kmeans.predict(X_reduced)"
   ]
  },
  {
   "cell_type": "code",
   "execution_count": 28,
   "metadata": {},
   "outputs": [
    {
     "data": {
      "text/plain": [
       "array([1, 3, 2, 1, 2, 2, 1, 1, 2, 3, 2, 1, 1, 1, 2, 3, 3, 3, 1, 1, 1, 1,\n",
       "       1, 1, 3, 2, 1, 3, 3, 1, 2, 3, 2, 2, 1, 2, 3, 3, 2, 3, 2, 2, 1, 2,\n",
       "       2, 3, 1, 1, 1, 3, 2, 1, 0, 2, 1, 1, 2, 2, 3, 1, 0, 3, 2, 2, 3, 3,\n",
       "       1, 3, 3, 2, 2, 2, 3, 1, 3, 2, 2, 3, 3, 1], dtype=int32)"
      ]
     },
     "execution_count": 28,
     "metadata": {},
     "output_type": "execute_result"
    }
   ],
   "source": [
    "y_kmeans"
   ]
  },
  {
   "cell_type": "code",
   "execution_count": 29,
   "metadata": {},
   "outputs": [
    {
     "name": "stdout",
     "output_type": "stream",
     "text": [
      "Data load error:  Length of values does not match length of index\n"
     ]
    }
   ],
   "source": [
    "try:\n",
    "    target = pd.read_csv('train_cli.csv')\n",
    "    Ymsi = target['msi']\n",
    "    target.gender = pd.factorize(target.gender)[0]\n",
    "    target.msi = pd.factorize(target.msi)\n",
    "    print('Success: Data loaded into dataframe.')\n",
    "except Exception as e:\n",
    "    print('Data load error: ',e)"
   ]
  },
  {
   "cell_type": "code",
   "execution_count": 30,
   "metadata": {},
   "outputs": [
    {
     "data": {
      "text/html": [
       "<div>\n",
       "<style scoped>\n",
       "    .dataframe tbody tr th:only-of-type {\n",
       "        vertical-align: middle;\n",
       "    }\n",
       "\n",
       "    .dataframe tbody tr th {\n",
       "        vertical-align: top;\n",
       "    }\n",
       "\n",
       "    .dataframe thead th {\n",
       "        text-align: right;\n",
       "    }\n",
       "</style>\n",
       "<table border=\"1\" class=\"dataframe\">\n",
       "  <thead>\n",
       "    <tr style=\"text-align: right;\">\n",
       "      <th></th>\n",
       "      <th>sample</th>\n",
       "      <th>gender</th>\n",
       "      <th>msi</th>\n",
       "      <th>target</th>\n",
       "    </tr>\n",
       "  </thead>\n",
       "  <tbody>\n",
       "    <tr>\n",
       "      <th>0</th>\n",
       "      <td>Training_1</td>\n",
       "      <td>0</td>\n",
       "      <td>1</td>\n",
       "      <td>0</td>\n",
       "    </tr>\n",
       "    <tr>\n",
       "      <th>1</th>\n",
       "      <td>Training_2</td>\n",
       "      <td>0</td>\n",
       "      <td>1</td>\n",
       "      <td>0</td>\n",
       "    </tr>\n",
       "    <tr>\n",
       "      <th>2</th>\n",
       "      <td>Training_3</td>\n",
       "      <td>2</td>\n",
       "      <td>1</td>\n",
       "      <td>2</td>\n",
       "    </tr>\n",
       "    <tr>\n",
       "      <th>3</th>\n",
       "      <td>Training_4</td>\n",
       "      <td>0</td>\n",
       "      <td>1</td>\n",
       "      <td>0</td>\n",
       "    </tr>\n",
       "    <tr>\n",
       "      <th>4</th>\n",
       "      <td>Training_5</td>\n",
       "      <td>0</td>\n",
       "      <td>1</td>\n",
       "      <td>0</td>\n",
       "    </tr>\n",
       "  </tbody>\n",
       "</table>\n",
       "</div>"
      ],
      "text/plain": [
       "       sample  gender  msi  target\n",
       "0  Training_1       0    1       0\n",
       "1  Training_2       0    1       0\n",
       "2  Training_3       2    1       2\n",
       "3  Training_4       0    1       0\n",
       "4  Training_5       0    1       0"
      ]
     },
     "execution_count": 30,
     "metadata": {},
     "output_type": "execute_result"
    }
   ],
   "source": [
    "stacked = target[['gender','msi']].stack()\n",
    "target[['gender','msi']] = pd.Series(stacked.factorize()[0], index=stacked.index).unstack()\n",
    "target.head()"
   ]
  },
  {
   "cell_type": "code",
   "execution_count": 33,
   "metadata": {},
   "outputs": [
    {
     "data": {
      "image/png": "[encoded data removed]",
      "text/plain": [
       "<Figure size 432x288 with 1 Axes>"
      ]
     },
     "metadata": {
      "needs_background": "light"
     },
     "output_type": "display_data"
    }
   ],
   "source": [
    "plt.scatter(X_reduced[10576], X_reduced[14704], c=y_kmeans, s=31);"
   ]
  },
  {
   "cell_type": "code",
   "execution_count": 117,
   "metadata": {},
   "outputs": [],
   "source": [
    "#plt.scatter(X_reduced[5881], X_reduced[13773], c=y_kmeans, s=31);"
   ]
  },
  {
   "cell_type": "code",
   "execution_count": 34,
   "metadata": {},
   "outputs": [
    {
     "data": {
      "text/plain": [
       "0    MSI-Low/MSS\n",
       "1    MSI-Low/MSS\n",
       "2    MSI-Low/MSS\n",
       "3    MSI-Low/MSS\n",
       "4    MSI-Low/MSS\n",
       "Name: msi, dtype: object"
      ]
     },
     "execution_count": 34,
     "metadata": {},
     "output_type": "execute_result"
    }
   ],
   "source": [
    "Ymsi.head()"
   ]
  },
  {
   "cell_type": "code",
   "execution_count": 35,
   "metadata": {},
   "outputs": [],
   "source": [
    "a =[]\n",
    "b =[]\n",
    "c =[]\n",
    "d=[]\n",
    "\n",
    "for i in range(0,80):\n",
    "    if y_kmeans[i] ==0:\n",
    "        a.append(i)\n",
    "    if y_kmeans[i] ==1:\n",
    "        b.append(i)\n",
    "    if y_kmeans[i] ==2:\n",
    "        c.append(i)\n",
    "    if y_kmeans[i] ==3:\n",
    "        d.append(i)"
   ]
  },
  {
   "cell_type": "code",
   "execution_count": 36,
   "metadata": {},
   "outputs": [
    {
     "data": {
      "text/plain": [
       "([52, 60],\n",
       " [0,\n",
       "  3,\n",
       "  6,\n",
       "  7,\n",
       "  11,\n",
       "  12,\n",
       "  13,\n",
       "  18,\n",
       "  19,\n",
       "  20,\n",
       "  21,\n",
       "  22,\n",
       "  23,\n",
       "  26,\n",
       "  29,\n",
       "  34,\n",
       "  42,\n",
       "  46,\n",
       "  47,\n",
       "  48,\n",
       "  51,\n",
       "  54,\n",
       "  55,\n",
       "  59,\n",
       "  66,\n",
       "  73,\n",
       "  79],\n",
       " [2,\n",
       "  4,\n",
       "  5,\n",
       "  8,\n",
       "  10,\n",
       "  14,\n",
       "  25,\n",
       "  30,\n",
       "  32,\n",
       "  33,\n",
       "  35,\n",
       "  38,\n",
       "  40,\n",
       "  41,\n",
       "  43,\n",
       "  44,\n",
       "  50,\n",
       "  53,\n",
       "  56,\n",
       "  57,\n",
       "  62,\n",
       "  63,\n",
       "  69,\n",
       "  70,\n",
       "  71,\n",
       "  75,\n",
       "  76],\n",
       " [1,\n",
       "  9,\n",
       "  15,\n",
       "  16,\n",
       "  17,\n",
       "  24,\n",
       "  27,\n",
       "  28,\n",
       "  31,\n",
       "  36,\n",
       "  37,\n",
       "  39,\n",
       "  45,\n",
       "  49,\n",
       "  58,\n",
       "  61,\n",
       "  64,\n",
       "  65,\n",
       "  67,\n",
       "  68,\n",
       "  72,\n",
       "  74,\n",
       "  77,\n",
       "  78])"
      ]
     },
     "execution_count": 36,
     "metadata": {},
     "output_type": "execute_result"
    }
   ],
   "source": [
    "a,b,c,d"
   ]
  },
  {
   "cell_type": "code",
   "execution_count": 37,
   "metadata": {},
   "outputs": [
    {
     "name": "stdout",
     "output_type": "stream",
     "text": [
      "MSI-High 52\n",
      "MSI-Low/MSS 60\n"
     ]
    }
   ],
   "source": [
    "a_refined= []\n",
    "for index in a:\n",
    "    print(Ymsi[index],index)"
   ]
  },
  {
   "cell_type": "code",
   "execution_count": 38,
   "metadata": {},
   "outputs": [
    {
     "data": {
      "text/plain": [
       "[60]"
      ]
     },
     "execution_count": 38,
     "metadata": {},
     "output_type": "execute_result"
    }
   ],
   "source": [
    "a_refined=[]\n",
    "for index in a:\n",
    "    if Ymsi[index]=='MSI-Low/MSS':\n",
    "        a_refined.append(index)\n",
    "a_refined"
   ]
  },
  {
   "cell_type": "code",
   "execution_count": 39,
   "metadata": {},
   "outputs": [
    {
     "name": "stdout",
     "output_type": "stream",
     "text": [
      "MSI-Low/MSS 0\n",
      "MSI-Low/MSS 3\n",
      "MSI-High 6\n",
      "MSI-High 7\n",
      "MSI-High 11\n",
      "MSI-Low/MSS 12\n",
      "MSI-Low/MSS 13\n",
      "MSI-Low/MSS 18\n",
      "MSI-High 19\n",
      "MSI-Low/MSS 20\n",
      "MSI-Low/MSS 21\n",
      "MSI-Low/MSS 22\n",
      "MSI-Low/MSS 23\n",
      "MSI-Low/MSS 26\n",
      "MSI-Low/MSS 29\n",
      "MSI-Low/MSS 34\n",
      "MSI-Low/MSS 42\n",
      "MSI-Low/MSS 46\n",
      "MSI-Low/MSS 47\n",
      "MSI-Low/MSS 48\n",
      "MSI-Low/MSS 51\n",
      "MSI-Low/MSS 54\n",
      "MSI-Low/MSS 55\n",
      "MSI-Low/MSS 59\n",
      "MSI-Low/MSS 66\n",
      "MSI-Low/MSS 73\n",
      "MSI-Low/MSS 79\n"
     ]
    }
   ],
   "source": [
    "for index in b:\n",
    "    print(Ymsi[index],index)"
   ]
  },
  {
   "cell_type": "code",
   "execution_count": 40,
   "metadata": {},
   "outputs": [
    {
     "data": {
      "text/plain": [
       "[0,\n",
       " 3,\n",
       " 12,\n",
       " 13,\n",
       " 18,\n",
       " 20,\n",
       " 21,\n",
       " 22,\n",
       " 23,\n",
       " 26,\n",
       " 29,\n",
       " 34,\n",
       " 42,\n",
       " 46,\n",
       " 47,\n",
       " 48,\n",
       " 51,\n",
       " 54,\n",
       " 55,\n",
       " 59,\n",
       " 66,\n",
       " 73,\n",
       " 79]"
      ]
     },
     "execution_count": 40,
     "metadata": {},
     "output_type": "execute_result"
    }
   ],
   "source": [
    "b_refined=[]\n",
    "for index in b:\n",
    "    if Ymsi[index]=='MSI-Low/MSS':\n",
    "        b_refined.append(index)\n",
    "b_refined"
   ]
  },
  {
   "cell_type": "code",
   "execution_count": 41,
   "metadata": {},
   "outputs": [
    {
     "name": "stdout",
     "output_type": "stream",
     "text": [
      "MSI-Low/MSS 2\n",
      "MSI-Low/MSS 4\n",
      "MSI-High 5\n",
      "MSI-Low/MSS 8\n",
      "MSI-Low/MSS 10\n",
      "MSI-High 14\n",
      "MSI-Low/MSS 25\n",
      "MSI-Low/MSS 30\n",
      "MSI-Low/MSS 32\n",
      "MSI-Low/MSS 33\n",
      "MSI-Low/MSS 35\n",
      "MSI-High 38\n",
      "MSI-Low/MSS 40\n",
      "MSI-Low/MSS 41\n",
      "MSI-Low/MSS 43\n",
      "MSI-Low/MSS 44\n",
      "MSI-Low/MSS 50\n",
      "MSI-Low/MSS 53\n",
      "MSI-Low/MSS 56\n",
      "MSI-Low/MSS 57\n",
      "MSI-Low/MSS 62\n",
      "MSI-High 63\n",
      "MSI-Low/MSS 69\n",
      "MSI-Low/MSS 70\n",
      "MSI-High 71\n",
      "MSI-Low/MSS 75\n",
      "MSI-Low/MSS 76\n"
     ]
    }
   ],
   "source": [
    "for index in c:\n",
    "    print(Ymsi[index],index)"
   ]
  },
  {
   "cell_type": "code",
   "execution_count": 42,
   "metadata": {},
   "outputs": [
    {
     "data": {
      "text/plain": [
       "[2,\n",
       " 4,\n",
       " 8,\n",
       " 10,\n",
       " 25,\n",
       " 30,\n",
       " 32,\n",
       " 33,\n",
       " 35,\n",
       " 40,\n",
       " 41,\n",
       " 43,\n",
       " 44,\n",
       " 50,\n",
       " 53,\n",
       " 56,\n",
       " 57,\n",
       " 62,\n",
       " 69,\n",
       " 70,\n",
       " 75,\n",
       " 76]"
      ]
     },
     "execution_count": 42,
     "metadata": {},
     "output_type": "execute_result"
    }
   ],
   "source": [
    "c_refined=[]\n",
    "for index in c:\n",
    "    if Ymsi[index]=='MSI-Low/MSS':\n",
    "        c_refined.append(index)\n",
    "c_refined"
   ]
  },
  {
   "cell_type": "code",
   "execution_count": 43,
   "metadata": {},
   "outputs": [
    {
     "name": "stdout",
     "output_type": "stream",
     "text": [
      "MSI-Low/MSS 1\n",
      "MSI-High 9\n",
      "MSI-Low/MSS 15\n",
      "MSI-Low/MSS 16\n",
      "MSI-Low/MSS 17\n",
      "MSI-Low/MSS 24\n",
      "MSI-Low/MSS 27\n",
      "MSI-Low/MSS 28\n",
      "MSI-Low/MSS 31\n",
      "MSI-Low/MSS 36\n",
      "MSI-High 37\n",
      "MSI-Low/MSS 39\n",
      "MSI-High 45\n",
      "MSI-High 49\n",
      "MSI-Low/MSS 58\n",
      "MSI-Low/MSS 61\n",
      "MSI-Low/MSS 64\n",
      "MSI-High 65\n",
      "MSI-High 67\n",
      "MSI-Low/MSS 68\n",
      "MSI-High 72\n",
      "MSI-High 74\n",
      "MSI-Low/MSS 77\n",
      "MSI-Low/MSS 78\n"
     ]
    }
   ],
   "source": [
    "for index in d:\n",
    "    print(Ymsi[index],index)"
   ]
  },
  {
   "cell_type": "code",
   "execution_count": 44,
   "metadata": {},
   "outputs": [
    {
     "data": {
      "text/plain": [
       "[1, 15, 16, 17, 24, 27, 28, 31, 36, 39, 58, 61, 64, 68, 77, 78]"
      ]
     },
     "execution_count": 44,
     "metadata": {},
     "output_type": "execute_result"
    }
   ],
   "source": [
    "d_refined=[]\n",
    "for index in d:\n",
    "    if Ymsi[index]=='MSI-Low/MSS':\n",
    "        d_refined.append(index)\n",
    "d_refined"
   ]
  },
  {
   "cell_type": "code",
   "execution_count": 45,
   "metadata": {},
   "outputs": [
    {
     "data": {
      "text/plain": [
       "62"
      ]
     },
     "execution_count": 45,
     "metadata": {},
     "output_type": "execute_result"
    }
   ],
   "source": [
    "refined=[]\n",
    "refined=a_refined + b_refined + c_refined + d_refined\n",
    "len(refined)"
   ]
  },
  {
   "cell_type": "code",
   "execution_count": 46,
   "metadata": {},
   "outputs": [
    {
     "name": "stdout",
     "output_type": "stream",
     "text": [
      "Success: Data loaded into dataframe.\n"
     ]
    }
   ],
   "source": [
    "try:\n",
    "  target = pd.read_csv('train_CLI.csv')\n",
    "  target.T\n",
    "  gender = target['gender']\n",
    "  print('Success: Data loaded into dataframe.')\n",
    "except Exception as e:\n",
    "    print('Data load error: ',e)"
   ]
  },
  {
   "cell_type": "code",
   "execution_count": 47,
   "metadata": {},
   "outputs": [
    {
     "data": {
      "text/plain": [
       "0    Female\n",
       "1    Female\n",
       "2      Male\n",
       "3    Female\n",
       "4    Female\n",
       "Name: gender, dtype: object"
      ]
     },
     "execution_count": 47,
     "metadata": {},
     "output_type": "execute_result"
    }
   ],
   "source": [
    "gender.head()"
   ]
  },
  {
   "cell_type": "code",
   "execution_count": 48,
   "metadata": {},
   "outputs": [
    {
     "name": "stdout",
     "output_type": "stream",
     "text": [
      "Male 52\n",
      "Male 60\n"
     ]
    }
   ],
   "source": [
    "a_refined= []\n",
    "for index in a:\n",
    "    print(gender[index],index)"
   ]
  },
  {
   "cell_type": "code",
   "execution_count": 49,
   "metadata": {},
   "outputs": [
    {
     "data": {
      "text/plain": [
       "[]"
      ]
     },
     "execution_count": 49,
     "metadata": {},
     "output_type": "execute_result"
    }
   ],
   "source": [
    "a_refined=[]\n",
    "for index in a:\n",
    "    if gender[index]=='Female':\n",
    "        a_refined.append(index)\n",
    "a_refined"
   ]
  },
  {
   "cell_type": "code",
   "execution_count": 50,
   "metadata": {},
   "outputs": [
    {
     "name": "stdout",
     "output_type": "stream",
     "text": [
      "Female 0\n",
      "Female 3\n",
      "Female 6\n",
      "Female 7\n",
      "Female 11\n",
      "Female 12\n",
      "Female 13\n",
      "Female 18\n",
      "Male 19\n",
      "Female 20\n",
      "Female 21\n",
      "Female 22\n",
      "Male 23\n",
      "Female 26\n",
      "Male 29\n",
      "Female 34\n",
      "Female 42\n",
      "Female 46\n",
      "Female 47\n",
      "Male 48\n",
      "Female 51\n",
      "Female 54\n",
      "Female 55\n",
      "Male 59\n",
      "Female 66\n",
      "Male 73\n",
      "Female 79\n"
     ]
    }
   ],
   "source": [
    "for index in b:\n",
    "    print(gender[index],index)"
   ]
  },
  {
   "cell_type": "code",
   "execution_count": 51,
   "metadata": {},
   "outputs": [
    {
     "data": {
      "text/plain": [
       "[0,\n",
       " 3,\n",
       " 6,\n",
       " 7,\n",
       " 11,\n",
       " 12,\n",
       " 13,\n",
       " 18,\n",
       " 20,\n",
       " 21,\n",
       " 22,\n",
       " 26,\n",
       " 34,\n",
       " 42,\n",
       " 46,\n",
       " 47,\n",
       " 51,\n",
       " 54,\n",
       " 55,\n",
       " 66,\n",
       " 79]"
      ]
     },
     "execution_count": 51,
     "metadata": {},
     "output_type": "execute_result"
    }
   ],
   "source": [
    "b_refined=[]\n",
    "for index in b:\n",
    "    if gender[index]=='Female':\n",
    "        b_refined.append(index)\n",
    "b_refined"
   ]
  },
  {
   "cell_type": "code",
   "execution_count": 52,
   "metadata": {},
   "outputs": [
    {
     "name": "stdout",
     "output_type": "stream",
     "text": [
      "Male 2\n",
      "Female 4\n",
      "Male 5\n",
      "Female 8\n",
      "Female 10\n",
      "Male 14\n",
      "Female 25\n",
      "Female 30\n",
      "Male 32\n",
      "Female 33\n",
      "Male 35\n",
      "Female 38\n",
      "Female 40\n",
      "Female 41\n",
      "Male 43\n",
      "Male 44\n",
      "Male 50\n",
      "Female 53\n",
      "Female 56\n",
      "Female 57\n",
      "Female 62\n",
      "Female 63\n",
      "Male 69\n",
      "Female 70\n",
      "Female 71\n",
      "Male 75\n",
      "Female 76\n"
     ]
    }
   ],
   "source": [
    "for index in c:\n",
    "    print(gender[index],index)"
   ]
  },
  {
   "cell_type": "code",
   "execution_count": 53,
   "metadata": {},
   "outputs": [
    {
     "data": {
      "text/plain": [
       "[4, 8, 10, 25, 30, 33, 38, 40, 41, 53, 56, 57, 62, 63, 70, 71, 76]"
      ]
     },
     "execution_count": 53,
     "metadata": {},
     "output_type": "execute_result"
    }
   ],
   "source": [
    "c_refined=[]\n",
    "for index in c:\n",
    "    if gender[index]=='Female':\n",
    "        c_refined.append(index)\n",
    "c_refined"
   ]
  },
  {
   "cell_type": "code",
   "execution_count": 54,
   "metadata": {},
   "outputs": [
    {
     "name": "stdout",
     "output_type": "stream",
     "text": [
      "Female 1\n",
      "Female 9\n",
      "Female 15\n",
      "Female 16\n",
      "Female 17\n",
      "Male 24\n",
      "Male 27\n",
      "Female 28\n",
      "Male 31\n",
      "Male 36\n",
      "Female 37\n",
      "Male 39\n",
      "Female 45\n",
      "Female 49\n",
      "Female 58\n",
      "Female 61\n",
      "Male 64\n",
      "Female 65\n",
      "Female 67\n",
      "Male 68\n",
      "Male 72\n",
      "Female 74\n",
      "Female 77\n",
      "Male 78\n"
     ]
    }
   ],
   "source": [
    "for index in d:\n",
    "    print(gender[index],index)"
   ]
  },
  {
   "cell_type": "code",
   "execution_count": 55,
   "metadata": {},
   "outputs": [
    {
     "data": {
      "text/plain": [
       "[1, 9, 15, 16, 17, 28, 37, 45, 49, 58, 61, 65, 67, 74, 77]"
      ]
     },
     "execution_count": 55,
     "metadata": {},
     "output_type": "execute_result"
    }
   ],
   "source": [
    "d_refined=[]\n",
    "for index in d:\n",
    "    if gender[index]=='Female':\n",
    "        d_refined.append(index)\n",
    "d_refined"
   ]
  },
  {
   "cell_type": "code",
   "execution_count": 56,
   "metadata": {},
   "outputs": [
    {
     "data": {
      "text/plain": [
       "53"
      ]
     },
     "execution_count": 56,
     "metadata": {},
     "output_type": "execute_result"
    }
   ],
   "source": [
    "refined=[]\n",
    "refined=a_refined + b_refined + c_refined + d_refined\n",
    "len(refined)"
   ]
  },
  {
   "cell_type": "code",
   "execution_count": 57,
   "metadata": {},
   "outputs": [
    {
     "data": {
      "text/plain": [
       "array([1, 3, 2, 1, 2, 2, 1, 1, 2, 3, 2, 1, 1, 1, 2, 3, 3, 3, 1, 1, 1, 1,\n",
       "       1, 1, 3, 2, 1, 3, 3, 1, 2, 3, 2, 2, 1, 2, 3, 3, 2, 3, 2, 2, 1, 2,\n",
       "       2, 3, 1, 1, 1, 3, 2, 1, 0, 2, 1, 1, 2, 2, 3, 1, 0, 3, 2, 2, 3, 3,\n",
       "       1, 3, 3, 2, 2, 2, 3, 1, 3, 2, 2, 3, 3, 1], dtype=int32)"
      ]
     },
     "execution_count": 57,
     "metadata": {},
     "output_type": "execute_result"
    }
   ],
   "source": [
    "#to display in which cluster each data belongs\n",
    "y_kmeans"
   ]
  },
  {
   "cell_type": "code",
   "execution_count": 58,
   "metadata": {},
   "outputs": [
    {
     "data": {
      "text/plain": [
       "array([1, 3, 2, 1, 2, 2, 1, 1, 2, 3, 2, 1, 1, 1, 2, 3, 3, 3, 1, 1, 1, 1,\n",
       "       1, 1, 3, 2, 1, 3, 3, 1, 2, 3, 2, 2, 1, 2, 3, 3, 2, 3, 2, 2, 1, 2,\n",
       "       2, 3, 1, 1, 1, 3, 2, 1, 0, 2, 1, 1, 2, 2, 3, 1, 0, 3, 2, 2, 3, 3,\n",
       "       1, 3, 3, 2, 2, 2, 3, 1, 3, 2, 2, 3, 3, 1], dtype=int32)"
      ]
     },
     "execution_count": 58,
     "metadata": {},
     "output_type": "execute_result"
    }
   ],
   "source": [
    "#to display in which cluster each data belongs\n",
    "y_kmeans"
   ]
  },
  {
   "cell_type": "code",
   "execution_count": 31,
   "metadata": {},
   "outputs": [
    {
     "data": {
      "text/plain": [
       "0    80\n",
       "dtype: int64"
      ]
     },
     "execution_count": 31,
     "metadata": {},
     "output_type": "execute_result"
    }
   ],
   "source": [
    "#to check that clustering was correct, i.e 80 clusters were formed\n",
    "pd.DataFrame(y_kmeans).nunique()"
   ]
  },
  {
   "cell_type": "code",
   "execution_count": 213,
   "metadata": {},
   "outputs": [],
   "source": [
    "#importing the testing proteomics data \n",
    "import pandas as pd\n",
    "import numpy as np\n",
    "\n",
    "tsv_file='test_pro.tsv'\n",
    "csv_table=pd.read_table(tsv_file,sep='\\t')\n",
    "csv_table.to_csv('test_pro1.csv',index=False)"
   ]
  },
  {
   "cell_type": "code",
   "execution_count": 214,
   "metadata": {},
   "outputs": [
    {
     "name": "stdout",
     "output_type": "stream",
     "text": [
      "Success: Data loaded into dataframe.\n"
     ]
    }
   ],
   "source": [
    "#loading the testing proteomics data in \"tdata\" dataframe\n",
    "try:\n",
    "  tdata = pd.read_csv('test_pro1.csv')\n",
    "  print('Success: Data loaded into dataframe.')\n",
    "except Exception as e:\n",
    "    print('Data load error: ',e)"
   ]
  },
  {
   "cell_type": "code",
   "execution_count": 215,
   "metadata": {},
   "outputs": [
    {
     "data": {
      "text/html": [
       "<div>\n",
       "<style scoped>\n",
       "    .dataframe tbody tr th:only-of-type {\n",
       "        vertical-align: middle;\n",
       "    }\n",
       "\n",
       "    .dataframe tbody tr th {\n",
       "        vertical-align: top;\n",
       "    }\n",
       "\n",
       "    .dataframe thead th {\n",
       "        text-align: right;\n",
       "    }\n",
       "</style>\n",
       "<table border=\"1\" class=\"dataframe\">\n",
       "  <thead>\n",
       "    <tr style=\"text-align: right;\">\n",
       "      <th></th>\n",
       "      <th>Testing_1</th>\n",
       "      <th>Testing_2</th>\n",
       "      <th>Testing_3</th>\n",
       "      <th>Testing_4</th>\n",
       "      <th>Testing_5</th>\n",
       "      <th>Testing_6</th>\n",
       "      <th>Testing_7</th>\n",
       "      <th>Testing_8</th>\n",
       "      <th>Testing_9</th>\n",
       "      <th>Testing_10</th>\n",
       "      <th>...</th>\n",
       "      <th>Testing_71</th>\n",
       "      <th>Testing_72</th>\n",
       "      <th>Testing_73</th>\n",
       "      <th>Testing_74</th>\n",
       "      <th>Testing_75</th>\n",
       "      <th>Testing_76</th>\n",
       "      <th>Testing_77</th>\n",
       "      <th>Testing_78</th>\n",
       "      <th>Testing_79</th>\n",
       "      <th>Testing_80</th>\n",
       "    </tr>\n",
       "  </thead>\n",
       "  <tbody>\n",
       "    <tr>\n",
       "      <th>0</th>\n",
       "      <td>3.446723</td>\n",
       "      <td>3.669580</td>\n",
       "      <td>3.398472</td>\n",
       "      <td>3.112875</td>\n",
       "      <td>3.535956</td>\n",
       "      <td>3.222556</td>\n",
       "      <td>4.011226</td>\n",
       "      <td>3.660633</td>\n",
       "      <td>2.459769</td>\n",
       "      <td>3.529445</td>\n",
       "      <td>...</td>\n",
       "      <td>2.747886</td>\n",
       "      <td>3.107907</td>\n",
       "      <td>2.796258</td>\n",
       "      <td>3.975565</td>\n",
       "      <td>3.854046</td>\n",
       "      <td>3.840117</td>\n",
       "      <td>2.531494</td>\n",
       "      <td>2.642408</td>\n",
       "      <td>3.913182</td>\n",
       "      <td>4.141304</td>\n",
       "    </tr>\n",
       "    <tr>\n",
       "      <th>1</th>\n",
       "      <td>5.994520</td>\n",
       "      <td>6.371038</td>\n",
       "      <td>6.132440</td>\n",
       "      <td>5.645341</td>\n",
       "      <td>5.532811</td>\n",
       "      <td>5.754886</td>\n",
       "      <td>5.917435</td>\n",
       "      <td>6.056136</td>\n",
       "      <td>5.526915</td>\n",
       "      <td>5.652671</td>\n",
       "      <td>...</td>\n",
       "      <td>6.164473</td>\n",
       "      <td>6.404276</td>\n",
       "      <td>5.067085</td>\n",
       "      <td>6.497901</td>\n",
       "      <td>5.259377</td>\n",
       "      <td>6.172335</td>\n",
       "      <td>5.496268</td>\n",
       "      <td>6.395966</td>\n",
       "      <td>5.963701</td>\n",
       "      <td>6.308505</td>\n",
       "    </tr>\n",
       "    <tr>\n",
       "      <th>2</th>\n",
       "      <td>2.168001</td>\n",
       "      <td>2.410543</td>\n",
       "      <td>NaN</td>\n",
       "      <td>2.211822</td>\n",
       "      <td>0.987561</td>\n",
       "      <td>1.737837</td>\n",
       "      <td>2.381688</td>\n",
       "      <td>2.193863</td>\n",
       "      <td>1.759665</td>\n",
       "      <td>2.310238</td>\n",
       "      <td>...</td>\n",
       "      <td>2.842435</td>\n",
       "      <td>1.694889</td>\n",
       "      <td>1.520694</td>\n",
       "      <td>2.860077</td>\n",
       "      <td>2.233857</td>\n",
       "      <td>2.305192</td>\n",
       "      <td>1.470474</td>\n",
       "      <td>1.073909</td>\n",
       "      <td>1.102109</td>\n",
       "      <td>1.088823</td>\n",
       "    </tr>\n",
       "    <tr>\n",
       "      <th>3</th>\n",
       "      <td>NaN</td>\n",
       "      <td>1.024838</td>\n",
       "      <td>NaN</td>\n",
       "      <td>1.099892</td>\n",
       "      <td>1.076615</td>\n",
       "      <td>1.001861</td>\n",
       "      <td>1.924734</td>\n",
       "      <td>1.024838</td>\n",
       "      <td>NaN</td>\n",
       "      <td>1.878005</td>\n",
       "      <td>...</td>\n",
       "      <td>2.481767</td>\n",
       "      <td>NaN</td>\n",
       "      <td>1.978784</td>\n",
       "      <td>1.024838</td>\n",
       "      <td>NaN</td>\n",
       "      <td>0.990946</td>\n",
       "      <td>2.821773</td>\n",
       "      <td>1.428959</td>\n",
       "      <td>NaN</td>\n",
       "      <td>NaN</td>\n",
       "    </tr>\n",
       "    <tr>\n",
       "      <th>4</th>\n",
       "      <td>NaN</td>\n",
       "      <td>0.991114</td>\n",
       "      <td>1.096724</td>\n",
       "      <td>1.056902</td>\n",
       "      <td>NaN</td>\n",
       "      <td>NaN</td>\n",
       "      <td>1.010897</td>\n",
       "      <td>0.991114</td>\n",
       "      <td>NaN</td>\n",
       "      <td>1.010897</td>\n",
       "      <td>...</td>\n",
       "      <td>1.181934</td>\n",
       "      <td>1.044511</td>\n",
       "      <td>1.010897</td>\n",
       "      <td>0.991114</td>\n",
       "      <td>1.066978</td>\n",
       "      <td>NaN</td>\n",
       "      <td>1.911122</td>\n",
       "      <td>NaN</td>\n",
       "      <td>1.040694</td>\n",
       "      <td>NaN</td>\n",
       "    </tr>\n",
       "  </tbody>\n",
       "</table>\n",
       "<p>5 rows × 80 columns</p>\n",
       "</div>"
      ],
      "text/plain": [
       "   Testing_1  Testing_2  Testing_3  Testing_4  Testing_5  Testing_6  \\\n",
       "0   3.446723   3.669580   3.398472   3.112875   3.535956   3.222556   \n",
       "1   5.994520   6.371038   6.132440   5.645341   5.532811   5.754886   \n",
       "2   2.168001   2.410543        NaN   2.211822   0.987561   1.737837   \n",
       "3        NaN   1.024838        NaN   1.099892   1.076615   1.001861   \n",
       "4        NaN   0.991114   1.096724   1.056902        NaN        NaN   \n",
       "\n",
       "   Testing_7  Testing_8  Testing_9  Testing_10     ...      Testing_71  \\\n",
       "0   4.011226   3.660633   2.459769    3.529445     ...        2.747886   \n",
       "1   5.917435   6.056136   5.526915    5.652671     ...        6.164473   \n",
       "2   2.381688   2.193863   1.759665    2.310238     ...        2.842435   \n",
       "3   1.924734   1.024838        NaN    1.878005     ...        2.481767   \n",
       "4   1.010897   0.991114        NaN    1.010897     ...        1.181934   \n",
       "\n",
       "   Testing_72  Testing_73  Testing_74  Testing_75  Testing_76  Testing_77  \\\n",
       "0    3.107907    2.796258    3.975565    3.854046    3.840117    2.531494   \n",
       "1    6.404276    5.067085    6.497901    5.259377    6.172335    5.496268   \n",
       "2    1.694889    1.520694    2.860077    2.233857    2.305192    1.470474   \n",
       "3         NaN    1.978784    1.024838         NaN    0.990946    2.821773   \n",
       "4    1.044511    1.010897    0.991114    1.066978         NaN    1.911122   \n",
       "\n",
       "   Testing_78  Testing_79  Testing_80  \n",
       "0    2.642408    3.913182    4.141304  \n",
       "1    6.395966    5.963701    6.308505  \n",
       "2    1.073909    1.102109    1.088823  \n",
       "3    1.428959         NaN         NaN  \n",
       "4         NaN    1.040694         NaN  \n",
       "\n",
       "[5 rows x 80 columns]"
      ]
     },
     "execution_count": 215,
     "metadata": {},
     "output_type": "execute_result"
    }
   ],
   "source": [
    "#to display the testing proteomics data\n",
    "tdata.head()"
   ]
  },
  {
   "cell_type": "code",
   "execution_count": 216,
   "metadata": {},
   "outputs": [],
   "source": [
    "#to replace the NaN values by the mean of each row for every individual row\n",
    "X_tdata = tdata.apply(lambda x: x.fillna(x.mean()),axis=0)"
   ]
  },
  {
   "cell_type": "code",
   "execution_count": 217,
   "metadata": {},
   "outputs": [
    {
     "data": {
      "text/html": [
       "<div>\n",
       "<style scoped>\n",
       "    .dataframe tbody tr th:only-of-type {\n",
       "        vertical-align: middle;\n",
       "    }\n",
       "\n",
       "    .dataframe tbody tr th {\n",
       "        vertical-align: top;\n",
       "    }\n",
       "\n",
       "    .dataframe thead th {\n",
       "        text-align: right;\n",
       "    }\n",
       "</style>\n",
       "<table border=\"1\" class=\"dataframe\">\n",
       "  <thead>\n",
       "    <tr style=\"text-align: right;\">\n",
       "      <th></th>\n",
       "      <th>Testing_1</th>\n",
       "      <th>Testing_2</th>\n",
       "      <th>Testing_3</th>\n",
       "      <th>Testing_4</th>\n",
       "      <th>Testing_5</th>\n",
       "      <th>Testing_6</th>\n",
       "      <th>Testing_7</th>\n",
       "      <th>Testing_8</th>\n",
       "      <th>Testing_9</th>\n",
       "      <th>Testing_10</th>\n",
       "      <th>...</th>\n",
       "      <th>Testing_71</th>\n",
       "      <th>Testing_72</th>\n",
       "      <th>Testing_73</th>\n",
       "      <th>Testing_74</th>\n",
       "      <th>Testing_75</th>\n",
       "      <th>Testing_76</th>\n",
       "      <th>Testing_77</th>\n",
       "      <th>Testing_78</th>\n",
       "      <th>Testing_79</th>\n",
       "      <th>Testing_80</th>\n",
       "    </tr>\n",
       "  </thead>\n",
       "  <tbody>\n",
       "    <tr>\n",
       "      <th>0</th>\n",
       "      <td>3.446723</td>\n",
       "      <td>3.669580</td>\n",
       "      <td>3.398472</td>\n",
       "      <td>3.112875</td>\n",
       "      <td>3.535956</td>\n",
       "      <td>3.222556</td>\n",
       "      <td>4.011226</td>\n",
       "      <td>3.660633</td>\n",
       "      <td>2.459769</td>\n",
       "      <td>3.529445</td>\n",
       "      <td>...</td>\n",
       "      <td>2.747886</td>\n",
       "      <td>3.107907</td>\n",
       "      <td>2.796258</td>\n",
       "      <td>3.975565</td>\n",
       "      <td>3.854046</td>\n",
       "      <td>3.840117</td>\n",
       "      <td>2.531494</td>\n",
       "      <td>2.642408</td>\n",
       "      <td>3.913182</td>\n",
       "      <td>4.141304</td>\n",
       "    </tr>\n",
       "    <tr>\n",
       "      <th>1</th>\n",
       "      <td>5.994520</td>\n",
       "      <td>6.371038</td>\n",
       "      <td>6.132440</td>\n",
       "      <td>5.645341</td>\n",
       "      <td>5.532811</td>\n",
       "      <td>5.754886</td>\n",
       "      <td>5.917435</td>\n",
       "      <td>6.056136</td>\n",
       "      <td>5.526915</td>\n",
       "      <td>5.652671</td>\n",
       "      <td>...</td>\n",
       "      <td>6.164473</td>\n",
       "      <td>6.404276</td>\n",
       "      <td>5.067085</td>\n",
       "      <td>6.497901</td>\n",
       "      <td>5.259377</td>\n",
       "      <td>6.172335</td>\n",
       "      <td>5.496268</td>\n",
       "      <td>6.395966</td>\n",
       "      <td>5.963701</td>\n",
       "      <td>6.308505</td>\n",
       "    </tr>\n",
       "    <tr>\n",
       "      <th>2</th>\n",
       "      <td>2.168001</td>\n",
       "      <td>2.410543</td>\n",
       "      <td>2.691813</td>\n",
       "      <td>2.211822</td>\n",
       "      <td>0.987561</td>\n",
       "      <td>1.737837</td>\n",
       "      <td>2.381688</td>\n",
       "      <td>2.193863</td>\n",
       "      <td>1.759665</td>\n",
       "      <td>2.310238</td>\n",
       "      <td>...</td>\n",
       "      <td>2.842435</td>\n",
       "      <td>1.694889</td>\n",
       "      <td>1.520694</td>\n",
       "      <td>2.860077</td>\n",
       "      <td>2.233857</td>\n",
       "      <td>2.305192</td>\n",
       "      <td>1.470474</td>\n",
       "      <td>1.073909</td>\n",
       "      <td>1.102109</td>\n",
       "      <td>1.088823</td>\n",
       "    </tr>\n",
       "    <tr>\n",
       "      <th>3</th>\n",
       "      <td>2.702256</td>\n",
       "      <td>1.024838</td>\n",
       "      <td>2.691813</td>\n",
       "      <td>1.099892</td>\n",
       "      <td>1.076615</td>\n",
       "      <td>1.001861</td>\n",
       "      <td>1.924734</td>\n",
       "      <td>1.024838</td>\n",
       "      <td>2.696292</td>\n",
       "      <td>1.878005</td>\n",
       "      <td>...</td>\n",
       "      <td>2.481767</td>\n",
       "      <td>2.693591</td>\n",
       "      <td>1.978784</td>\n",
       "      <td>1.024838</td>\n",
       "      <td>2.696690</td>\n",
       "      <td>0.990946</td>\n",
       "      <td>2.821773</td>\n",
       "      <td>1.428959</td>\n",
       "      <td>2.701440</td>\n",
       "      <td>2.710897</td>\n",
       "    </tr>\n",
       "    <tr>\n",
       "      <th>4</th>\n",
       "      <td>2.702256</td>\n",
       "      <td>0.991114</td>\n",
       "      <td>1.096724</td>\n",
       "      <td>1.056902</td>\n",
       "      <td>2.715043</td>\n",
       "      <td>2.709113</td>\n",
       "      <td>1.010897</td>\n",
       "      <td>0.991114</td>\n",
       "      <td>2.696292</td>\n",
       "      <td>1.010897</td>\n",
       "      <td>...</td>\n",
       "      <td>1.181934</td>\n",
       "      <td>1.044511</td>\n",
       "      <td>1.010897</td>\n",
       "      <td>0.991114</td>\n",
       "      <td>1.066978</td>\n",
       "      <td>2.707427</td>\n",
       "      <td>1.911122</td>\n",
       "      <td>2.719052</td>\n",
       "      <td>1.040694</td>\n",
       "      <td>2.710897</td>\n",
       "    </tr>\n",
       "  </tbody>\n",
       "</table>\n",
       "<p>5 rows × 80 columns</p>\n",
       "</div>"
      ],
      "text/plain": [
       "   Testing_1  Testing_2  Testing_3  Testing_4  Testing_5  Testing_6  \\\n",
       "0   3.446723   3.669580   3.398472   3.112875   3.535956   3.222556   \n",
       "1   5.994520   6.371038   6.132440   5.645341   5.532811   5.754886   \n",
       "2   2.168001   2.410543   2.691813   2.211822   0.987561   1.737837   \n",
       "3   2.702256   1.024838   2.691813   1.099892   1.076615   1.001861   \n",
       "4   2.702256   0.991114   1.096724   1.056902   2.715043   2.709113   \n",
       "\n",
       "   Testing_7  Testing_8  Testing_9  Testing_10     ...      Testing_71  \\\n",
       "0   4.011226   3.660633   2.459769    3.529445     ...        2.747886   \n",
       "1   5.917435   6.056136   5.526915    5.652671     ...        6.164473   \n",
       "2   2.381688   2.193863   1.759665    2.310238     ...        2.842435   \n",
       "3   1.924734   1.024838   2.696292    1.878005     ...        2.481767   \n",
       "4   1.010897   0.991114   2.696292    1.010897     ...        1.181934   \n",
       "\n",
       "   Testing_72  Testing_73  Testing_74  Testing_75  Testing_76  Testing_77  \\\n",
       "0    3.107907    2.796258    3.975565    3.854046    3.840117    2.531494   \n",
       "1    6.404276    5.067085    6.497901    5.259377    6.172335    5.496268   \n",
       "2    1.694889    1.520694    2.860077    2.233857    2.305192    1.470474   \n",
       "3    2.693591    1.978784    1.024838    2.696690    0.990946    2.821773   \n",
       "4    1.044511    1.010897    0.991114    1.066978    2.707427    1.911122   \n",
       "\n",
       "   Testing_78  Testing_79  Testing_80  \n",
       "0    2.642408    3.913182    4.141304  \n",
       "1    6.395966    5.963701    6.308505  \n",
       "2    1.073909    1.102109    1.088823  \n",
       "3    1.428959    2.701440    2.710897  \n",
       "4    2.719052    1.040694    2.710897  \n",
       "\n",
       "[5 rows x 80 columns]"
      ]
     },
     "execution_count": 217,
     "metadata": {},
     "output_type": "execute_result"
    }
   ],
   "source": [
    "#to display the testing proteomics data having NaN values replaced by mean for every individual row\n",
    "replacedX_data=X_tdata\n",
    "replacedX_data.head()"
   ]
  },
  {
   "cell_type": "code",
   "execution_count": 218,
   "metadata": {},
   "outputs": [],
   "source": [
    "#for transposing as the target has 80 outputs and the data given above has 80 columns and 4118 rows\n",
    "X_tdata = X_tdata.T"
   ]
  },
  {
   "cell_type": "code",
   "execution_count": 222,
   "metadata": {},
   "outputs": [],
   "source": [
    "target = pd.read_csv('sum_tab_2.csv')\n",
    "YPro = target['Proteomics']"
   ]
  },
  {
   "cell_type": "code",
   "execution_count": 219,
   "metadata": {},
   "outputs": [],
   "source": [
    "#for displaying the transposed data\n",
    "#X_tdata"
   ]
  },
  {
   "cell_type": "code",
   "execution_count": 39,
   "metadata": {},
   "outputs": [],
   "source": [
    "#to allocate the 80 columns in X_tdata for using it for training (X value in model(X,Y) where Y is target(label))\n",
    "X_tdata = X_tdata.iloc[:,Cols]"
   ]
  },
  {
   "cell_type": "code",
   "execution_count": 40,
   "metadata": {},
   "outputs": [],
   "source": [
    "#to use k-means on test proteomics data and cluster them\n",
    "y_test = kmeans.predict(X_tdata)"
   ]
  },
  {
   "cell_type": "code",
   "execution_count": 41,
   "metadata": {},
   "outputs": [
    {
     "data": {
      "text/plain": [
       "array([74, 17, 34,  6, 31, 15, 55,  9, 54, 17, 56, 59, 27, 17, 58, 50, 64,\n",
       "       71, 72,  1, 57,  1, 34, 61, 55, 64, 35, 44,  8, 75, 33, 28, 58, 71,\n",
       "       27, 42, 44, 32, 35, 30,  2, 54, 39, 58, 70, 61,  4, 78, 78,  6, 58,\n",
       "       44, 39, 28, 33, 58, 31, 23, 68, 59,  0, 11, 43, 70, 66, 17, 34, 45,\n",
       "       64,  1, 72, 58, 19,  5,  2, 48, 79, 25, 27, 29], dtype=int32)"
      ]
     },
     "execution_count": 41,
     "metadata": {},
     "output_type": "execute_result"
    }
   ],
   "source": [
    "#to display the clusters in which every data is predicted to belong to\n",
    "y_test"
   ]
  },
  {
   "cell_type": "code",
   "execution_count": 220,
   "metadata": {},
   "outputs": [],
   "source": [
    "from sklearn.ensemble import RandomForestClassifier"
   ]
  },
  {
   "cell_type": "code",
   "execution_count": 221,
   "metadata": {},
   "outputs": [],
   "source": [
    "#to use RandomForest for feature importance thus reducing the features(4118 columns)\n",
    "model = RandomForestClassifier(random_state=1, max_depth=10)"
   ]
  },
  {
   "cell_type": "code",
   "execution_count": 223,
   "metadata": {},
   "outputs": [
    {
     "name": "stderr",
     "output_type": "stream",
     "text": [
      "/anaconda3/lib/python3.6/site-packages/sklearn/ensemble/forest.py:248: FutureWarning: The default value of n_estimators will change from 10 in version 0.20 to 100 in 0.22.\n",
      "  \"10 in version 0.20 to 100 in 0.22.\", FutureWarning)\n"
     ]
    },
    {
     "data": {
      "text/plain": [
       "RandomForestClassifier(bootstrap=True, class_weight=None, criterion='gini',\n",
       "            max_depth=10, max_features='auto', max_leaf_nodes=None,\n",
       "            min_impurity_decrease=0.0, min_impurity_split=None,\n",
       "            min_samples_leaf=1, min_samples_split=2,\n",
       "            min_weight_fraction_leaf=0.0, n_estimators=10, n_jobs=None,\n",
       "            oob_score=False, random_state=1, verbose=0, warm_start=False)"
      ]
     },
     "execution_count": 223,
     "metadata": {},
     "output_type": "execute_result"
    }
   ],
   "source": [
    "model.fit(X_tdata,YPro)"
   ]
  },
  {
   "cell_type": "code",
   "execution_count": 224,
   "metadata": {},
   "outputs": [
    {
     "data": {
      "image/png": "[encoded data removed]",
      "text/plain": [
       "<Figure size 432x288 with 1 Axes>"
      ]
     },
     "metadata": {
      "needs_background": "light"
     },
     "output_type": "display_data"
    }
   ],
   "source": [
    "#to display which features(columns) are important on basis of training the data on the Y label (target)\n",
    "features = X.columns\n",
    "importances = model.feature_importances_\n",
    "indices = np.argsort(importances)[-10:]  # top 10 features\n",
    "plt.title('Feature Importances')\n",
    "plt.barh(range(len(indices)), importances[indices], color='b', align='center')\n",
    "plt.yticks(range(len(indices)), [features[i] for i in indices])\n",
    "plt.xlabel('Relative Importance')\n",
    "plt.show()"
   ]
  },
  {
   "cell_type": "code",
   "execution_count": 225,
   "metadata": {},
   "outputs": [
    {
     "data": {
      "text/plain": [
       "[153, 117, 133, 3059, 894, 2721, 1671, 4063, 1534, 3604]"
      ]
     },
     "execution_count": 225,
     "metadata": {},
     "output_type": "execute_result"
    }
   ],
   "source": [
    "#displaying which proteomics are top 10 based on importance\n",
    "Cols = [features[i] for i in indices]\n",
    "Cols"
   ]
  },
  {
   "cell_type": "code",
   "execution_count": 262,
   "metadata": {},
   "outputs": [],
   "source": [
    "#taking 10 features to get 90% accuracy\n",
    "cols = [153, 117, 133, 3059, 894, 2721, 1671, 4063, 1534, 3604]"
   ]
  },
  {
   "cell_type": "code",
   "execution_count": 263,
   "metadata": {},
   "outputs": [
    {
     "data": {
      "text/html": [
       "<div>\n",
       "<style scoped>\n",
       "    .dataframe tbody tr th:only-of-type {\n",
       "        vertical-align: middle;\n",
       "    }\n",
       "\n",
       "    .dataframe tbody tr th {\n",
       "        vertical-align: top;\n",
       "    }\n",
       "\n",
       "    .dataframe thead th {\n",
       "        text-align: right;\n",
       "    }\n",
       "</style>\n",
       "<table border=\"1\" class=\"dataframe\">\n",
       "  <thead>\n",
       "    <tr style=\"text-align: right;\">\n",
       "      <th></th>\n",
       "      <th>153</th>\n",
       "      <th>117</th>\n",
       "      <th>133</th>\n",
       "      <th>3059</th>\n",
       "      <th>894</th>\n",
       "      <th>2721</th>\n",
       "      <th>1671</th>\n",
       "      <th>4063</th>\n",
       "      <th>1534</th>\n",
       "      <th>3604</th>\n",
       "    </tr>\n",
       "  </thead>\n",
       "  <tbody>\n",
       "    <tr>\n",
       "      <th>Training_1</th>\n",
       "      <td>3.961683</td>\n",
       "      <td>5.370055</td>\n",
       "      <td>3.200476</td>\n",
       "      <td>4.413065</td>\n",
       "      <td>1.848341</td>\n",
       "      <td>4.094841</td>\n",
       "      <td>2.691781</td>\n",
       "      <td>3.258495</td>\n",
       "      <td>4.951783</td>\n",
       "      <td>1.621761</td>\n",
       "    </tr>\n",
       "    <tr>\n",
       "      <th>Training_2</th>\n",
       "      <td>3.336937</td>\n",
       "      <td>5.063238</td>\n",
       "      <td>4.460308</td>\n",
       "      <td>3.997449</td>\n",
       "      <td>2.878443</td>\n",
       "      <td>3.283029</td>\n",
       "      <td>4.677450</td>\n",
       "      <td>4.987202</td>\n",
       "      <td>4.232572</td>\n",
       "      <td>1.050907</td>\n",
       "    </tr>\n",
       "    <tr>\n",
       "      <th>Training_3</th>\n",
       "      <td>2.807499</td>\n",
       "      <td>5.213649</td>\n",
       "      <td>2.693344</td>\n",
       "      <td>4.694786</td>\n",
       "      <td>1.895561</td>\n",
       "      <td>3.825931</td>\n",
       "      <td>4.455182</td>\n",
       "      <td>3.423881</td>\n",
       "      <td>6.751444</td>\n",
       "      <td>1.057698</td>\n",
       "    </tr>\n",
       "    <tr>\n",
       "      <th>Training_4</th>\n",
       "      <td>3.316228</td>\n",
       "      <td>5.107847</td>\n",
       "      <td>3.639396</td>\n",
       "      <td>5.005726</td>\n",
       "      <td>1.453861</td>\n",
       "      <td>4.064748</td>\n",
       "      <td>3.224969</td>\n",
       "      <td>3.597734</td>\n",
       "      <td>6.146736</td>\n",
       "      <td>0.389452</td>\n",
       "    </tr>\n",
       "    <tr>\n",
       "      <th>Training_5</th>\n",
       "      <td>3.597370</td>\n",
       "      <td>5.257573</td>\n",
       "      <td>2.056838</td>\n",
       "      <td>4.881578</td>\n",
       "      <td>1.616420</td>\n",
       "      <td>3.465226</td>\n",
       "      <td>1.470011</td>\n",
       "      <td>2.433180</td>\n",
       "      <td>3.870047</td>\n",
       "      <td>0.850665</td>\n",
       "    </tr>\n",
       "  </tbody>\n",
       "</table>\n",
       "</div>"
      ],
      "text/plain": [
       "                153       117       133       3059      894       2721  \\\n",
       "Training_1  3.961683  5.370055  3.200476  4.413065  1.848341  4.094841   \n",
       "Training_2  3.336937  5.063238  4.460308  3.997449  2.878443  3.283029   \n",
       "Training_3  2.807499  5.213649  2.693344  4.694786  1.895561  3.825931   \n",
       "Training_4  3.316228  5.107847  3.639396  5.005726  1.453861  4.064748   \n",
       "Training_5  3.597370  5.257573  2.056838  4.881578  1.616420  3.465226   \n",
       "\n",
       "                1671      4063      1534      3604  \n",
       "Training_1  2.691781  3.258495  4.951783  1.621761  \n",
       "Training_2  4.677450  4.987202  4.232572  1.050907  \n",
       "Training_3  4.455182  3.423881  6.751444  1.057698  \n",
       "Training_4  3.224969  3.597734  6.146736  0.389452  \n",
       "Training_5  1.470011  2.433180  3.870047  0.850665  "
      ]
     },
     "execution_count": 263,
     "metadata": {},
     "output_type": "execute_result"
    }
   ],
   "source": [
    "#Using the reduced features\n",
    "X_reduced = X.iloc[:,cols]\n",
    "X_reduced.head()"
   ]
  },
  {
   "cell_type": "code",
   "execution_count": 264,
   "metadata": {},
   "outputs": [],
   "source": [
    "RandomForestClassifier_model = RandomForestClassifier(random_state=1, max_depth=10)"
   ]
  },
  {
   "cell_type": "code",
   "execution_count": 265,
   "metadata": {},
   "outputs": [
    {
     "name": "stderr",
     "output_type": "stream",
     "text": [
      "/anaconda3/lib/python3.6/site-packages/sklearn/ensemble/forest.py:248: FutureWarning: The default value of n_estimators will change from 10 in version 0.20 to 100 in 0.22.\n",
      "  \"10 in version 0.20 to 100 in 0.22.\", FutureWarning)\n"
     ]
    },
    {
     "data": {
      "text/plain": [
       "RandomForestClassifier(bootstrap=True, class_weight=None, criterion='gini',\n",
       "            max_depth=10, max_features='auto', max_leaf_nodes=None,\n",
       "            min_impurity_decrease=0.0, min_impurity_split=None,\n",
       "            min_samples_leaf=1, min_samples_split=2,\n",
       "            min_weight_fraction_leaf=0.0, n_estimators=10, n_jobs=None,\n",
       "            oob_score=False, random_state=1, verbose=0, warm_start=False)"
      ]
     },
     "execution_count": 265,
     "metadata": {},
     "output_type": "execute_result"
    }
   ],
   "source": [
    "RandomForestClassifier_model.fit(X_reduced,Y)"
   ]
  },
  {
   "cell_type": "code",
   "execution_count": 266,
   "metadata": {},
   "outputs": [
    {
     "data": {
      "text/plain": [
       "array([ 1,  2,  3,  4,  5, 21,  7,  8,  9, 10, 11, 12, 13, 14, 15, 16, 17,\n",
       "       18, 19, 20,  6, 22, 23, 24, 25, 36, 27, 28, 29, 30, 31, 32, 33, 34,\n",
       "       74, 36, 37, 38, 39, 40, 41, 42, 43, 44, 74, 46, 47, 48, 74, 50, 51,\n",
       "       52, 52, 54, 63, 56,  1, 58, 57, 59,  1, 62, 63, 64, 65, 66, 67, 68,\n",
       "       69, 70, 71, 72, 73, 74, 75, 76, 77, 62, 79, 80])"
      ]
     },
     "execution_count": 266,
     "metadata": {},
     "output_type": "execute_result"
    }
   ],
   "source": [
    "Y_predicted_train = RandomForestClassifier_model.predict(X_reduced)\n",
    "Y_predicted_train"
   ]
  },
  {
   "cell_type": "code",
   "execution_count": 269,
   "metadata": {},
   "outputs": [],
   "source": [
    "import sklearn\n",
    "rna_accuracy_test = sklearn.metrics.accuracy_score(Y_predicted_train, Y)"
   ]
  },
  {
   "cell_type": "code",
   "execution_count": 270,
   "metadata": {},
   "outputs": [
    {
     "data": {
      "text/plain": [
       "0.9"
      ]
     },
     "execution_count": 270,
     "metadata": {},
     "output_type": "execute_result"
    }
   ],
   "source": [
    "rna_accuracy_test"
   ]
  },
  {
   "cell_type": "code",
   "execution_count": null,
   "metadata": {},
   "outputs": [],
   "source": []
  }
 ],
 "metadata": {
  "kernelspec": {
   "display_name": "Python 3",
   "language": "python",
   "name": "python3"
  },
  "language_info": {
   "codemirror_mode": {
    "name": "ipython",
    "version": 3
   },
   "file_extension": ".py",
   "mimetype": "text/x-python",
   "name": "python",
   "nbconvert_exporter": "python",
   "pygments_lexer": "ipython3",
   "version": "3.6.6"
  }
 },
 "nbformat": 4,
 "nbformat_minor": 2
}
